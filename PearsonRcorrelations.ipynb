{
 "cells": [
  {
   "cell_type": "code",
   "execution_count": 9,
   "metadata": {
    "collapsed": true
   },
   "outputs": [],
   "source": [
    "%matplotlib inline\n",
    "import matplotlib.pyplot as plt\n",
    "import pandas as pd\n",
    "import numpy as np\n",
    "from datetime import datetime as dt\n",
    "import datetime\n",
    "import csv\n",
    "import math\n",
    "import scipy.stats as stats"
   ]
  },
  {
   "cell_type": "markdown",
   "metadata": {},
   "source": [
    "# SCK1"
   ]
  },
  {
   "cell_type": "code",
   "execution_count": 10,
   "metadata": {
    "collapsed": false
   },
   "outputs": [
    {
     "data": {
      "text/plain": [
       "bearing(deg)    0.074938\n",
       "speed(m/s)     -0.015486\n",
       "distance(m)    -0.195641\n",
       "SCK1_CO         1.000000\n",
       "SCK1_NO2        0.106100\n",
       "SCK1_TC        -0.309490\n",
       "SCK1_RH         0.359304\n",
       "SCK1_LX         0.319087\n",
       "SCK1_DB         0.178269\n",
       "FS_TF          -0.179078\n",
       "FS_RH           0.367205\n",
       "FS_WS           0.094457\n",
       "FS_WD          -0.179266\n",
       "FS_UP          -0.118089\n",
       "FS_DN          -0.142922\n",
       "V_r             0.072063\n",
       "dtype: float64"
      ]
     },
     "execution_count": 10,
     "metadata": {},
     "output_type": "execute_result"
    }
   ],
   "source": [
    "df = pd.read_csv('CO_ten_SCK1.csv')\n",
    "df[df.columns[7:-4]].apply(lambda x: x.corr(df['SCK1_CO']))"
   ]
  },
  {
   "cell_type": "code",
   "execution_count": 11,
   "metadata": {
    "collapsed": false
   },
   "outputs": [
    {
     "name": "stdout",
     "output_type": "stream",
     "text": [
      "['SCK1_CO', 'SCK1_NO2', 'SCK1_TC', 'SCK1_RH', 'SCK1_LX', 'SCK1_DB', 'FS_TF', 'FS_RH', 'FS_WS', 'FS_WD', 'FS_UP', 'FS_DN', 'V_r']\n"
     ]
    }
   ],
   "source": [
    "namelist = (['SCK1_CO','SCK1_NO2','SCK1_TC','SCK1_RH','SCK1_LX','SCK1_DB',\n",
    "             'FS_TF','FS_RH','FS_WS','FS_WD','FS_UP','FS_DN','V_r'])\n",
    "print namelist"
   ]
  },
  {
   "cell_type": "code",
   "execution_count": 12,
   "metadata": {
    "collapsed": false
   },
   "outputs": [
    {
     "name": "stdout",
     "output_type": "stream",
     "text": [
      "(1.0, 0.0)\n",
      "(0.10610045479609582, 2.7276998071806775e-05)\n",
      "(-0.30949049058885425, 6.5200855390653012e-36)\n",
      "(0.35930417109360069, 1.1863852008330887e-48)\n",
      "(0.31908660495399366, 3.476188901562789e-38)\n",
      "(0.17826898054523993, 1.3857790056015833e-12)\n",
      "(-0.17907807481403537, 1.0938362256239042e-12)\n",
      "(0.36720465088172027, 6.793469117038274e-51)\n",
      "(0.094456833642576399, 0.0001895801689146421)\n",
      "(-0.17926606440464335, 1.0351711200425551e-12)\n",
      "(nan, 1.0)\n",
      "(nan, 1.0)\n",
      "(0.072062898815409601, 0.0044420634677210481)\n"
     ]
    }
   ],
   "source": [
    "for i in namelist:\n",
    "    print stats.pearsonr(df['SCK1_CO'],df[i])"
   ]
  },
  {
   "cell_type": "code",
   "execution_count": 13,
   "metadata": {
    "collapsed": false
   },
   "outputs": [
    {
     "name": "stdout",
     "output_type": "stream",
     "text": [
      "0.0 1.0\n",
      "48.3192533135 0.0\n",
      "48.3192533135 0.0\n",
      "48.3192533135 0.0\n",
      "-45.1915408266 0.0\n",
      "48.3192533135 0.0\n",
      "48.3192533135 0.0\n",
      "48.3192533135 0.0\n",
      "48.3192533135 0.0\n",
      "48.2732909564 0.0\n",
      "4.74402880125 2.09509041532e-06\n",
      "45.4641657702 0.0\n",
      "48.3192533135 0.0\n"
     ]
    }
   ],
   "source": [
    "for i in namelist:\n",
    "    z_stat, p_val = stats.ranksums(df['SCK1_CO'],df[i])\n",
    "    print z_stat, p_val"
   ]
  },
  {
   "cell_type": "code",
   "execution_count": 14,
   "metadata": {
    "collapsed": false
   },
   "outputs": [
    {
     "data": {
      "text/plain": [
       "bearing(deg)    0.005775\n",
       "speed(m/s)      0.017292\n",
       "distance(m)     0.097080\n",
       "SCK1_CO         0.460087\n",
       "SCK1_NO2        1.000000\n",
       "SCK1_TC         0.016552\n",
       "SCK1_RH        -0.277531\n",
       "SCK1_LX         0.327568\n",
       "SCK1_DB         0.164790\n",
       "FS_TF          -0.019660\n",
       "FS_RH          -0.234031\n",
       "FS_WS           0.307782\n",
       "FS_WD           0.080400\n",
       "FS_UP           0.478733\n",
       "FS_DN           0.424266\n",
       "V_r             0.306270\n",
       "dtype: float64"
      ]
     },
     "execution_count": 14,
     "metadata": {},
     "output_type": "execute_result"
    }
   ],
   "source": [
    "df2 = pd.read_csv('NO2_ten_SCK1.csv')\n",
    "df2[df2.columns[7:-4]].apply(lambda x: x.corr(df2['SCK1_NO2']))"
   ]
  },
  {
   "cell_type": "code",
   "execution_count": 15,
   "metadata": {
    "collapsed": false
   },
   "outputs": [
    {
     "data": {
      "text/plain": [
       "bearing(deg)    0.031331\n",
       "speed(m/s)      0.020040\n",
       "distance(m)     0.022358\n",
       "SCK1_CO         1.000000\n",
       "SCK1_NO2        0.417506\n",
       "SCK1_TC        -0.343126\n",
       "SCK1_RH         0.192360\n",
       "SCK1_LX         0.071422\n",
       "SCK1_DB         0.455398\n",
       "FS_TF          -0.198539\n",
       "FS_RH           0.161495\n",
       "FS_WS           0.105160\n",
       "FS_WD          -0.116662\n",
       "FS_UP           0.050576\n",
       "FS_DN           0.062040\n",
       "V_r             0.110948\n",
       "dtype: float64"
      ]
     },
     "execution_count": 15,
     "metadata": {},
     "output_type": "execute_result"
    }
   ],
   "source": [
    "df3 = pd.read_csv('CO_ALL_SCK1.csv') # all files put together, not just CO\n",
    "df3[df3.columns[7:-4]].apply(lambda x: x.corr(df3['SCK1_CO']))"
   ]
  },
  {
   "cell_type": "code",
   "execution_count": 16,
   "metadata": {
    "collapsed": false
   },
   "outputs": [
    {
     "data": {
      "text/plain": [
       "bearing(deg)    0.021354\n",
       "speed(m/s)      0.018197\n",
       "distance(m)    -0.003660\n",
       "SCK1_CO         0.417506\n",
       "SCK1_NO2        1.000000\n",
       "SCK1_TC        -0.028456\n",
       "SCK1_RH        -0.218089\n",
       "SCK1_LX         0.116419\n",
       "SCK1_DB         0.232501\n",
       "FS_TF          -0.028161\n",
       "FS_RH          -0.188602\n",
       "FS_WS           0.239674\n",
       "FS_WD           0.066506\n",
       "FS_UP           0.385678\n",
       "FS_DN           0.399850\n",
       "V_r             0.188872\n",
       "dtype: float64"
      ]
     },
     "execution_count": 16,
     "metadata": {},
     "output_type": "execute_result"
    }
   ],
   "source": [
    "df3[df3.columns[7:-4]].apply(lambda x: x.corr(df3['SCK1_NO2']))"
   ]
  },
  {
   "cell_type": "code",
   "execution_count": null,
   "metadata": {
    "collapsed": true
   },
   "outputs": [],
   "source": []
  },
  {
   "cell_type": "code",
   "execution_count": null,
   "metadata": {
    "collapsed": true
   },
   "outputs": [],
   "source": []
  },
  {
   "cell_type": "code",
   "execution_count": null,
   "metadata": {
    "collapsed": true
   },
   "outputs": [],
   "source": []
  },
  {
   "cell_type": "code",
   "execution_count": null,
   "metadata": {
    "collapsed": true
   },
   "outputs": [],
   "source": []
  },
  {
   "cell_type": "code",
   "execution_count": null,
   "metadata": {
    "collapsed": true
   },
   "outputs": [],
   "source": []
  },
  {
   "cell_type": "markdown",
   "metadata": {},
   "source": [
    "#SCK2"
   ]
  },
  {
   "cell_type": "code",
   "execution_count": 17,
   "metadata": {
    "collapsed": false
   },
   "outputs": [
    {
     "data": {
      "text/plain": [
       "bearing(deg)   -0.073222\n",
       "speed(m/s)     -0.003771\n",
       "distance(m)    -0.097255\n",
       "SCK2_CO         1.000000\n",
       "SCK2_NO2       -0.139161\n",
       "SCK2_TC        -0.340875\n",
       "SCK2_RH         0.159854\n",
       "SCK2_LX        -0.156190\n",
       "SCK2_DB        -0.015024\n",
       "FS_TF          -0.360846\n",
       "FS_RH           0.162959\n",
       "FS_WS           0.314065\n",
       "FS_WD           0.054747\n",
       "FS_UP          -0.034475\n",
       "FS_DN          -0.065294\n",
       "V_r             0.220772\n",
       "dtype: float64"
      ]
     },
     "execution_count": 17,
     "metadata": {},
     "output_type": "execute_result"
    }
   ],
   "source": [
    "df4 = pd.read_csv('CO_ten_SCK2.csv')\n",
    "df4[df4.columns[7:-4]].apply(lambda x: x.corr(df4['SCK2_CO']))"
   ]
  },
  {
   "cell_type": "code",
   "execution_count": 18,
   "metadata": {
    "collapsed": false
   },
   "outputs": [
    {
     "data": {
      "text/plain": [
       "bearing(deg)    0.239885\n",
       "speed(m/s)     -0.225406\n",
       "distance(m)    -0.105394\n",
       "SCK2_CO         0.458245\n",
       "SCK2_NO2        1.000000\n",
       "SCK2_TC        -0.116085\n",
       "SCK2_RH        -0.362026\n",
       "SCK2_LX         0.147370\n",
       "SCK2_DB         0.214007\n",
       "FS_TF          -0.140266\n",
       "FS_RH          -0.396178\n",
       "FS_WS           0.214397\n",
       "FS_WD           0.214116\n",
       "FS_UP          -0.082715\n",
       "FS_DN          -0.164761\n",
       "V_r             0.087527\n",
       "dtype: float64"
      ]
     },
     "execution_count": 18,
     "metadata": {},
     "output_type": "execute_result"
    }
   ],
   "source": [
    "df5 = pd.read_csv('NO2_ten_SCK2.csv')\n",
    "df5[df5.columns[7:-4]].apply(lambda x: x.corr(df5['SCK2_NO2']))"
   ]
  },
  {
   "cell_type": "code",
   "execution_count": 19,
   "metadata": {
    "collapsed": false
   },
   "outputs": [
    {
     "data": {
      "text/plain": [
       "bearing(deg)    0.032136\n",
       "speed(m/s)      0.078842\n",
       "distance(m)    -0.099761\n",
       "SCK2_CO         1.000000\n",
       "SCK2_NO2        0.389374\n",
       "SCK2_TC        -0.512108\n",
       "SCK2_RH         0.049313\n",
       "SCK2_LX         0.006979\n",
       "SCK2_DB         0.117732\n",
       "FS_TF          -0.469301\n",
       "FS_RH           0.029861\n",
       "FS_WS           0.127795\n",
       "FS_WD           0.093898\n",
       "FS_UP          -0.314383\n",
       "FS_DN          -0.334101\n",
       "V_r             0.234398\n",
       "dtype: float64"
      ]
     },
     "execution_count": 19,
     "metadata": {},
     "output_type": "execute_result"
    }
   ],
   "source": [
    "df6 = pd.read_csv('CO_ALL_SCK2.csv') # all files put together, not just CO\n",
    "df6[df6.columns[7:-4]].apply(lambda x: x.corr(df6['SCK2_CO']))"
   ]
  },
  {
   "cell_type": "code",
   "execution_count": 20,
   "metadata": {
    "collapsed": false
   },
   "outputs": [
    {
     "data": {
      "text/plain": [
       "bearing(deg)    0.066619\n",
       "speed(m/s)      0.068163\n",
       "distance(m)    -0.214037\n",
       "SCK2_CO         0.389374\n",
       "SCK2_NO2        1.000000\n",
       "SCK2_TC        -0.121541\n",
       "SCK2_RH        -0.420848\n",
       "SCK2_LX         0.042953\n",
       "SCK2_DB         0.203979\n",
       "FS_TF          -0.045305\n",
       "FS_RH          -0.413040\n",
       "FS_WS           0.127600\n",
       "FS_WD           0.217514\n",
       "FS_UP          -0.078044\n",
       "FS_DN          -0.080713\n",
       "V_r             0.221817\n",
       "dtype: float64"
      ]
     },
     "execution_count": 20,
     "metadata": {},
     "output_type": "execute_result"
    }
   ],
   "source": [
    "df6[df6.columns[7:-4]].apply(lambda x: x.corr(df6['SCK2_NO2']))"
   ]
  },
  {
   "cell_type": "code",
   "execution_count": null,
   "metadata": {
    "collapsed": false
   },
   "outputs": [],
   "source": []
  },
  {
   "cell_type": "code",
   "execution_count": null,
   "metadata": {
    "collapsed": true
   },
   "outputs": [],
   "source": []
  },
  {
   "cell_type": "code",
   "execution_count": null,
   "metadata": {
    "collapsed": true
   },
   "outputs": [],
   "source": []
  },
  {
   "cell_type": "code",
   "execution_count": null,
   "metadata": {
    "collapsed": true
   },
   "outputs": [],
   "source": []
  },
  {
   "cell_type": "markdown",
   "metadata": {},
   "source": [
    "#SCK3"
   ]
  },
  {
   "cell_type": "code",
   "execution_count": 21,
   "metadata": {
    "collapsed": false
   },
   "outputs": [
    {
     "data": {
      "text/plain": [
       "bearing(deg)   -0.059512\n",
       "speed(m/s)      0.019650\n",
       "distance(m)     0.042841\n",
       "SCK3_CO         1.000000\n",
       "SCK3_NO2        0.505668\n",
       "SCK3_TC        -0.850681\n",
       "SCK3_RH         0.053623\n",
       "SCK3_LX         0.194410\n",
       "SCK3_DB         0.207139\n",
       "FS_TF          -0.425612\n",
       "FS_RH           0.130301\n",
       "FS_WS           0.510700\n",
       "FS_WD          -0.071951\n",
       "FS_UP          -0.277668\n",
       "FS_DN          -0.453205\n",
       "V_r             0.311285\n",
       "dtype: float64"
      ]
     },
     "execution_count": 21,
     "metadata": {},
     "output_type": "execute_result"
    }
   ],
   "source": [
    "a = pd.read_csv('CO_ten_SCK3.csv')\n",
    "a[a.columns[7:-4]].apply(lambda x: x.corr(a['SCK3_CO']))"
   ]
  },
  {
   "cell_type": "code",
   "execution_count": 22,
   "metadata": {
    "collapsed": false
   },
   "outputs": [
    {
     "data": {
      "text/plain": [
       "bearing(deg)    0.014590\n",
       "speed(m/s)     -0.013754\n",
       "distance(m)     0.069620\n",
       "SCK3_CO         0.538347\n",
       "SCK3_NO2        1.000000\n",
       "SCK3_TC        -0.315789\n",
       "SCK3_RH        -0.451086\n",
       "SCK3_LX        -0.126734\n",
       "SCK3_DB         0.611569\n",
       "FS_TF           0.005382\n",
       "FS_RH          -0.323966\n",
       "FS_WS           0.517315\n",
       "FS_WD           0.494778\n",
       "FS_UP          -0.389528\n",
       "FS_DN          -0.390808\n",
       "V_r             0.434131\n",
       "dtype: float64"
      ]
     },
     "execution_count": 22,
     "metadata": {},
     "output_type": "execute_result"
    }
   ],
   "source": [
    "b = pd.read_csv('NO2_ten_SCK3.csv')\n",
    "b[b.columns[7:-4]].apply(lambda x: x.corr(b['SCK3_NO2']))"
   ]
  },
  {
   "cell_type": "code",
   "execution_count": 23,
   "metadata": {
    "collapsed": false
   },
   "outputs": [
    {
     "data": {
      "text/plain": [
       "bearing(deg)    0.001092\n",
       "speed(m/s)     -0.017064\n",
       "distance(m)    -0.149499\n",
       "SCK3_CO         1.000000\n",
       "SCK3_NO2        0.578900\n",
       "SCK3_TC        -0.765372\n",
       "SCK3_RH        -0.100025\n",
       "SCK3_LX         0.154387\n",
       "SCK3_DB         0.496132\n",
       "FS_TF          -0.430474\n",
       "FS_RH          -0.001136\n",
       "FS_WS           0.480669\n",
       "FS_WD           0.097789\n",
       "FS_UP          -0.419159\n",
       "FS_DN          -0.500649\n",
       "V_r             0.333843\n",
       "dtype: float64"
      ]
     },
     "execution_count": 23,
     "metadata": {},
     "output_type": "execute_result"
    }
   ],
   "source": [
    "c = pd.read_csv('CO_ALL_SCK3.csv') # all files put together, not just CO\n",
    "c[c.columns[7:-4]].apply(lambda x: x.corr(c['SCK3_CO']))"
   ]
  },
  {
   "cell_type": "code",
   "execution_count": 24,
   "metadata": {
    "collapsed": false
   },
   "outputs": [
    {
     "data": {
      "text/plain": [
       "bearing(deg)    0.052018\n",
       "speed(m/s)     -0.028214\n",
       "distance(m)    -0.179612\n",
       "SCK3_CO         0.578900\n",
       "SCK3_NO2        1.000000\n",
       "SCK3_TC        -0.384964\n",
       "SCK3_RH        -0.386743\n",
       "SCK3_LX        -0.001159\n",
       "SCK3_DB         0.533632\n",
       "FS_TF          -0.035415\n",
       "FS_RH          -0.313024\n",
       "FS_WS           0.517632\n",
       "FS_WD           0.480806\n",
       "FS_UP          -0.337372\n",
       "FS_DN          -0.429731\n",
       "V_r             0.410637\n",
       "dtype: float64"
      ]
     },
     "execution_count": 24,
     "metadata": {},
     "output_type": "execute_result"
    }
   ],
   "source": [
    "c[c.columns[7:-4]].apply(lambda x: x.corr(c['SCK3_NO2']))"
   ]
  },
  {
   "cell_type": "code",
   "execution_count": null,
   "metadata": {
    "collapsed": true
   },
   "outputs": [],
   "source": []
  },
  {
   "cell_type": "code",
   "execution_count": null,
   "metadata": {
    "collapsed": true
   },
   "outputs": [],
   "source": []
  },
  {
   "cell_type": "code",
   "execution_count": null,
   "metadata": {
    "collapsed": true
   },
   "outputs": [],
   "source": []
  },
  {
   "cell_type": "code",
   "execution_count": null,
   "metadata": {
    "collapsed": true
   },
   "outputs": [],
   "source": []
  },
  {
   "cell_type": "code",
   "execution_count": null,
   "metadata": {
    "collapsed": true
   },
   "outputs": [],
   "source": []
  },
  {
   "cell_type": "code",
   "execution_count": null,
   "metadata": {
    "collapsed": true
   },
   "outputs": [],
   "source": []
  },
  {
   "cell_type": "code",
   "execution_count": null,
   "metadata": {
    "collapsed": true
   },
   "outputs": [],
   "source": []
  }
 ],
 "metadata": {
  "kernelspec": {
   "display_name": "Python 2",
   "language": "python",
   "name": "python2"
  },
  "language_info": {
   "codemirror_mode": {
    "name": "ipython",
    "version": 2
   },
   "file_extension": ".py",
   "mimetype": "text/x-python",
   "name": "python",
   "nbconvert_exporter": "python",
   "pygments_lexer": "ipython2",
   "version": "2.7.10"
  }
 },
 "nbformat": 4,
 "nbformat_minor": 0
}
