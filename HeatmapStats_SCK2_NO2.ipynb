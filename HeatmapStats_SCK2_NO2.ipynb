{
 "cells": [
  {
   "cell_type": "code",
   "execution_count": 1,
   "metadata": {
    "collapsed": true
   },
   "outputs": [],
   "source": [
    "%matplotlib inline\n",
    "import matplotlib.pyplot as plt\n",
    "import pandas as pd\n",
    "import numpy as np\n",
    "import scipy.stats as stats"
   ]
  },
  {
   "cell_type": "code",
   "execution_count": 2,
   "metadata": {
    "collapsed": true
   },
   "outputs": [],
   "source": [
    "# all data for each individual SCK: SCK1[n=26], SCK2[n=22], SCK2[n=21]\n",
    "SCK2 = pd.read_csv('Combined/NO2_ALL_SCK2.csv')"
   ]
  },
  {
   "cell_type": "code",
   "execution_count": 2,
   "metadata": {
    "collapsed": true
   },
   "outputs": [],
   "source": [
    "# the lowest 10% of CO each day overlaid for all days\n",
    "SCK2_tenNO2 = pd.read_csv('Combined/NO2_ten_SCK2.csv')"
   ]
  },
  {
   "cell_type": "code",
   "execution_count": 3,
   "metadata": {
    "collapsed": false
   },
   "outputs": [],
   "source": [
    "# specific part of the top ten % at an intersection\n",
    "SCK2_NO2_flint_18th = pd.read_csv('GISjuly/SCK2_NO2_flint_18th.txt')\n",
    "SCK2_NO2_ind_main = pd.read_csv('GISjuly/SCK2_NO2_ind_main.txt')\n",
    "SCK2_NO2_Msharp_Squak = pd.read_csv('GISjuly/SCK2_NO2_Msharp_Squak.txt')\n",
    "SCK2_NO2_quak_19th = pd.read_csv('GISjuly/SCK2_NO2_quak_19th.txt')\n",
    "SCK2_NO2_TTUpkwy_18th = pd.read_csv('GISjuly/SCK2_NO2_TTUpkwy_18th.txt')"
   ]
  },
  {
   "cell_type": "code",
   "execution_count": 5,
   "metadata": {
    "collapsed": false
   },
   "outputs": [],
   "source": [
    "def mean(var):\n",
    "    print 'mean', np.mean(var), '  std', np.std(var)"
   ]
  },
  {
   "cell_type": "code",
   "execution_count": 4,
   "metadata": {
    "collapsed": false
   },
   "outputs": [],
   "source": [
    "ten = SCK2_tenNO2['SCK2_NO2']\n",
    "knox = SCK2_NO2_flint_18th['SCK2_NO2']\n",
    "mem = SCK2_NO2_ind_main['SCK2_NO2']\n",
    "sharp = SCK2_NO2_Msharp_Squak['SCK2_NO2']\n",
    "quak = SCK2_NO2_quak_19th['SCK2_NO2']\n",
    "pkwy1 = SCK2_NO2_TTUpkwy_18th['SCK2_NO2']"
   ]
  },
  {
   "cell_type": "code",
   "execution_count": 6,
   "metadata": {
    "collapsed": false
   },
   "outputs": [
    {
     "name": "stdout",
     "output_type": "stream",
     "text": [
      "mean 47.4935987447   std 16.337667177\n",
      "mean 45.1655439911   std 17.4982847152\n",
      "mean 56.424640682   std 13.8779127071\n",
      "mean 44.9793890052   std 13.1287438086\n",
      "mean 42.038110305   std 12.7588331421\n",
      "mean 59.4706648527   std 18.0952284678\n"
     ]
    }
   ],
   "source": [
    "mean(ten)\n",
    "mean(knox)\n",
    "mean(mem)\n",
    "mean(sharp)\n",
    "mean(quak)\n",
    "mean(pkwy1)"
   ]
  },
  {
   "cell_type": "code",
   "execution_count": 32,
   "metadata": {
    "collapsed": false
   },
   "outputs": [],
   "source": [
    "def boxplot_days(data1,data2,data3,data4,data5,data6,title,ylabel):\n",
    "    fig = plt.figure(figsize=[12,8])\n",
    "    ax = plt.axes()\n",
    "    ax.set_title(title,fontsize=14)\n",
    "    ax.set_ylabel(ylabel,fontsize=18)\n",
    "    ax.boxplot(data1, positions=[1], widths=0.3)\n",
    "    ax.boxplot(data2, positions=[2], widths=0.3)\n",
    "    ax.boxplot(data3, positions=[3], widths=0.3)\n",
    "    ax.boxplot(data4, positions=[4], widths=0.3)\n",
    "    ax.boxplot(data5, positions=[5], widths=0.3)\n",
    "    ax.boxplot(data6, positions=[6], widths=0.3)\n",
    "    ax.set_xlim(0.5,6.5)\n",
    "    ax.set_xticks([1,2,3,4,5,6])\n",
    "    #ax.set_yticklabels([10,20,30,40,50,60,70,80,90,100,110,120],fontsize=12)\n",
    "    ax.set_xticklabels(['tenCO', 'flint_18th','ind_main','Msharp_quak',\n",
    "                        'quak_19th','TTUpkwy_18th'],fontsize=12)"
   ]
  },
  {
   "cell_type": "code",
   "execution_count": 33,
   "metadata": {
    "collapsed": false,
    "scrolled": true
   },
   "outputs": [
    {
     "data": {
      "image/png": "[encoded data removed]",
      "text/plain": [
       "<matplotlib.figure.Figure at 0x1099a50d0>"
      ]
     },
     "metadata": {},
     "output_type": "display_data"
    }
   ],
   "source": [
    "boxplot_days(ten,knox,mem,sharp,quak,pkwy1,\n",
    "             'title','$NO_2$ $(k\\Omega)$')"
   ]
  },
  {
   "cell_type": "code",
   "execution_count": 9,
   "metadata": {
    "collapsed": false
   },
   "outputs": [
    {
     "data": {
      "text/plain": [
       "(1.0679179748690208, 0.28573675570105711)"
      ]
     },
     "execution_count": 9,
     "metadata": {},
     "output_type": "execute_result"
    }
   ],
   "source": [
    "stats.ttest_ind(ten,knox)"
   ]
  },
  {
   "cell_type": "code",
   "execution_count": 10,
   "metadata": {
    "collapsed": false
   },
   "outputs": [
    {
     "data": {
      "text/plain": [
       "(-3.5020124273843938, 0.0004760600737214783)"
      ]
     },
     "execution_count": 10,
     "metadata": {},
     "output_type": "execute_result"
    }
   ],
   "source": [
    "stats.ttest_ind(ten,mem)"
   ]
  },
  {
   "cell_type": "code",
   "execution_count": 11,
   "metadata": {
    "collapsed": false
   },
   "outputs": [
    {
     "data": {
      "text/plain": [
       "(0.95172924518493629, 0.3413965052452268)"
      ]
     },
     "execution_count": 11,
     "metadata": {},
     "output_type": "execute_result"
    }
   ],
   "source": [
    "stats.ttest_ind(ten,sharp)"
   ]
  },
  {
   "cell_type": "code",
   "execution_count": 12,
   "metadata": {
    "collapsed": false
   },
   "outputs": [
    {
     "data": {
      "text/plain": [
       "(1.485726516119535, 0.13757677378138605)"
      ]
     },
     "execution_count": 12,
     "metadata": {},
     "output_type": "execute_result"
    }
   ],
   "source": [
    "stats.ttest_ind(ten,quak)"
   ]
  },
  {
   "cell_type": "code",
   "execution_count": 13,
   "metadata": {
    "collapsed": false
   },
   "outputs": [
    {
     "data": {
      "text/plain": [
       "(-7.9088627768728621, 4.9805310221741144e-15)"
      ]
     },
     "execution_count": 13,
     "metadata": {},
     "output_type": "execute_result"
    }
   ],
   "source": [
    "stats.ttest_ind(ten,pkwy1)"
   ]
  },
  {
   "cell_type": "code",
   "execution_count": null,
   "metadata": {
    "collapsed": true
   },
   "outputs": [],
   "source": []
  }
 ],
 "metadata": {
  "kernelspec": {
   "display_name": "Python 2",
   "language": "python",
   "name": "python2"
  },
  "language_info": {
   "codemirror_mode": {
    "name": "ipython",
    "version": 2
   },
   "file_extension": ".py",
   "mimetype": "text/x-python",
   "name": "python",
   "nbconvert_exporter": "python",
   "pygments_lexer": "ipython2",
   "version": "2.7.10"
  }
 },
 "nbformat": 4,
 "nbformat_minor": 0
}
