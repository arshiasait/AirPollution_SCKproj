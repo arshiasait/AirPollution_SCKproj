{
 "cells": [
  {
   "cell_type": "code",
   "execution_count": 1,
   "metadata": {
    "collapsed": true
   },
   "outputs": [],
   "source": [
    "%matplotlib inline\n",
    "import matplotlib.pyplot as plt\n",
    "import pandas as pd\n",
    "import numpy as np\n",
    "import scipy.stats as stats"
   ]
  },
  {
   "cell_type": "code",
   "execution_count": 4,
   "metadata": {
    "collapsed": true
   },
   "outputs": [],
   "source": [
    "# all data for each individual SCK: SCK1[n=26], SCK2[n=22], SCK2[n=21]\n",
    "SCK2 = pd.read_csv('Combined/CO_ALL_SCK2.csv')"
   ]
  },
  {
   "cell_type": "code",
   "execution_count": 5,
   "metadata": {
    "collapsed": true
   },
   "outputs": [],
   "source": [
    "# the lowest 10% of CO each day overlaid for all days\n",
    "SCK2_tenCO = pd.read_csv('Combined/CO_ten_SCK2.csv')"
   ]
  },
  {
   "cell_type": "code",
   "execution_count": null,
   "metadata": {
    "collapsed": true
   },
   "outputs": [],
   "source": [
    "# specific part of the top ten % at an intersection\n",
    "SCK2_CO_19th_knox = pd.read_csv('GISjuly/SCK2_CO_19th_knox.txt')\n",
    "SCK2_CO_19th_mem = pd.read_csv('GISjuly/SCK2_CO_19th_mem.txt')\n",
    "SCK2_CO_24th_quak = pd.read_csv('GISjuly/SCK2_CO_24th_quak.txt')\n",
    "SCK2_CO_TTUpkwy_18th = pd.read_csv('GISjuly/SCK2_CO_TTUpkwy_18th.txt')\n",
    "SCK2_CO_TTUpkwy_knox = pd.read_csv('GISjuly/SCK2_CO_TTUpkwy_knox.txt')"
   ]
  },
  {
   "cell_type": "code",
   "execution_count": 9,
   "metadata": {
    "collapsed": false
   },
   "outputs": [],
   "source": [
    "ten = SCK2_tenCO['SCK2_CO']\n",
    "knox = SCK2_CO_19th_knox['SCK2_CO']\n",
    "mem = SCK2_CO_19th_mem['SCK2_CO']\n",
    "quak = SCK2_CO_24th_quak['SCK2_CO']\n",
    "pkwy1 = SCK2_CO_TTUpkwy_18th['SCK2_CO']\n",
    "pkwy2 = SCK2_CO_TTUpkwy_knox['SCK2_CO']"
   ]
  },
  {
   "cell_type": "code",
   "execution_count": 25,
   "metadata": {
    "collapsed": false
   },
   "outputs": [],
   "source": [
    "def mean(var):\n",
    "    print 'mean', np.mean(var), '  std', np.std(var)"
   ]
  },
  {
   "cell_type": "code",
   "execution_count": 29,
   "metadata": {
    "collapsed": false
   },
   "outputs": [
    {
     "name": "stdout",
     "output_type": "stream",
     "text": [
      "mean 372.5749875   std 77.3734977788\n",
      "mean 351.362983226   std 88.9039003754\n",
      "mean 363.985614286   std 80.0293542623\n",
      "mean 383.642514595   std 70.6801600341\n",
      "mean 370.729345946   std 65.7734364096\n",
      "mean 352.839355224   std 89.2108109019\n"
     ]
    }
   ],
   "source": [
    "mean(ten)\n",
    "mean(knox)\n",
    "mean(mem)\n",
    "mean(quak)\n",
    "mean(pkwy1)\n",
    "mean(pkwy2)"
   ]
  },
  {
   "cell_type": "code",
   "execution_count": 30,
   "metadata": {
    "collapsed": false
   },
   "outputs": [],
   "source": [
    "def boxplot_days(data1,data2,data3,data4,data5,data6,title,ylabel):\n",
    "    fig = plt.figure(figsize=[12,8])\n",
    "    ax = plt.axes()\n",
    "    ax.set_title(title,fontsize=14)\n",
    "    ax.set_ylabel(ylabel,fontsize=18)\n",
    "    ax.boxplot(data1, positions=[1], widths=0.3)\n",
    "    ax.boxplot(data2, positions=[2], widths=0.3)\n",
    "    ax.boxplot(data3, positions=[3], widths=0.3)\n",
    "    ax.boxplot(data4, positions=[4], widths=0.3)\n",
    "    ax.boxplot(data5, positions=[5], widths=0.3)\n",
    "    ax.boxplot(data6, positions=[6], widths=0.3)\n",
    "    ax.set_xlim(0.5,6.5)\n",
    "    ax.set_xticks([1,2,3,4,5,6])\n",
    "    #ax.set_yticklabels([200,300,400,500,600,700,800,900,1000,1100,1200],fontsize=12)\n",
    "    ax.set_xticklabels(['tenCO', '19th_knox','19th_mem',\n",
    "                        '24th_quak','TTUpkwy_18th','TTUpkwy_knox'],fontsize=12)"
   ]
  },
  {
   "cell_type": "code",
   "execution_count": 31,
   "metadata": {
    "collapsed": false,
    "scrolled": true
   },
   "outputs": [
    {
     "data": {
      "image/png": "[encoded data removed]",
      "text/plain": [
       "<matplotlib.figure.Figure at 0x10a5490d0>"
      ]
     },
     "metadata": {},
     "output_type": "display_data"
    }
   ],
   "source": [
    "boxplot_days(ten,knox,mem,quak,pkwy1,pkwy2,\n",
    "             'title','$CO$ $(k\\Omega)$')"
   ]
  },
  {
   "cell_type": "code",
   "execution_count": 20,
   "metadata": {
    "collapsed": false
   },
   "outputs": [
    {
     "data": {
      "text/plain": [
       "(3.1872050595128463, 0.0014649998699741663)"
      ]
     },
     "execution_count": 20,
     "metadata": {},
     "output_type": "execute_result"
    }
   ],
   "source": [
    "stats.ttest_ind(ten,knox)"
   ]
  },
  {
   "cell_type": "code",
   "execution_count": 21,
   "metadata": {
    "collapsed": false
   },
   "outputs": [
    {
     "data": {
      "text/plain": [
       "(0.81305131965650745, 0.4163210159365166)"
      ]
     },
     "execution_count": 21,
     "metadata": {},
     "output_type": "execute_result"
    }
   ],
   "source": [
    "stats.ttest_ind(ten,mem)"
   ]
  },
  {
   "cell_type": "code",
   "execution_count": 22,
   "metadata": {
    "collapsed": false
   },
   "outputs": [
    {
     "data": {
      "text/plain": [
       "(-1.8457796458879903, 0.065109888518307998)"
      ]
     },
     "execution_count": 22,
     "metadata": {},
     "output_type": "execute_result"
    }
   ],
   "source": [
    "stats.ttest_ind(ten,quak)"
   ]
  },
  {
   "cell_type": "code",
   "execution_count": 23,
   "metadata": {
    "collapsed": false
   },
   "outputs": [
    {
     "data": {
      "text/plain": [
       "(0.27958184262971236, 0.77983554526133869)"
      ]
     },
     "execution_count": 23,
     "metadata": {},
     "output_type": "execute_result"
    }
   ],
   "source": [
    "stats.ttest_ind(ten,pkwy1)"
   ]
  },
  {
   "cell_type": "code",
   "execution_count": 24,
   "metadata": {
    "collapsed": false
   },
   "outputs": [
    {
     "data": {
      "text/plain": [
       "(2.0234013487246094, 0.043212067871209833)"
      ]
     },
     "execution_count": 24,
     "metadata": {},
     "output_type": "execute_result"
    }
   ],
   "source": [
    "stats.ttest_ind(ten,pkwy2)"
   ]
  },
  {
   "cell_type": "code",
   "execution_count": null,
   "metadata": {
    "collapsed": true
   },
   "outputs": [],
   "source": []
  }
 ],
 "metadata": {
  "kernelspec": {
   "display_name": "Python 2",
   "language": "python",
   "name": "python2"
  },
  "language_info": {
   "codemirror_mode": {
    "name": "ipython",
    "version": 2
   },
   "file_extension": ".py",
   "mimetype": "text/x-python",
   "name": "python",
   "nbconvert_exporter": "python",
   "pygments_lexer": "ipython2",
   "version": "2.7.10"
  }
 },
 "nbformat": 4,
 "nbformat_minor": 0
}
