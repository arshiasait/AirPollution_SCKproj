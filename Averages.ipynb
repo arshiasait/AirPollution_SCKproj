{
 "cells": [
  {
   "cell_type": "code",
   "execution_count": 1,
   "metadata": {
    "collapsed": true
   },
   "outputs": [],
   "source": [
    "%matplotlib inline\n",
    "import matplotlib.pyplot as plt\n",
    "import pandas as pd\n",
    "import numpy as np\n",
    "import datetime\n",
    "import csv\n",
    "from pandas import DataFrame,date_range\n",
    "import matplotlib.dates as mdates"
   ]
  },
  {
   "cell_type": "code",
   "execution_count": 74,
   "metadata": {
    "collapsed": true
   },
   "outputs": [],
   "source": [
    "def average_three(list_of_file_strings,var1,var2,var3,output_file):\n",
    "    '''\n",
    "    Calling a list of filenames, this function outputs the average\n",
    "    CO resistance in Kohms for each one\n",
    "    '''\n",
    "    sck1_list = []\n",
    "    sck2_list = []\n",
    "    sck3_list = []\n",
    "    for i,item in enumerate(list_of_file_strings):\n",
    "        day = pd.read_csv(item)\n",
    "        SCK1 = day[var1]\n",
    "        SCK2 = day[var2]\n",
    "        SCK3 = day[var3]\n",
    "        sck1_list = np.append(np.mean(SCK1),sck1_list)\n",
    "        sck2_list = np.append(np.mean(SCK2),sck2_list)\n",
    "        sck3_list = np.append(np.mean(SCK3),sck3_list)\n",
    "    sck1_list = sck1_list[::-1]\n",
    "    sck2_list = sck2_list[::-1]\n",
    "    sck3_list = sck3_list[::-1]\n",
    "    \n",
    "    # write to columns in .csv\n",
    "    rows = zip(list_of_file_strings,sck1_list,sck2_list,sck3_list)\n",
    "    with open(output_file, 'wb') as f:\n",
    "        writer = csv.writer(f)\n",
    "        writer.writerow(['File','SCK1mean','SCK2mean','SCK3mean']) #titles\n",
    "        for i in rows:\n",
    "            writer.writerow(i) "
   ]
  },
  {
   "cell_type": "code",
   "execution_count": 75,
   "metadata": {
    "collapsed": true
   },
   "outputs": [],
   "source": [
    "def average_one(list_of_file_strings,var1,output_file):\n",
    "    '''\n",
    "    Calling a list of filenames, this function outputs the average\n",
    "    CO resistance in Kohms for each one\n",
    "    '''\n",
    "    sck1_list = []\n",
    "    for i,item in enumerate(list_of_file_strings):\n",
    "        day = pd.read_csv(item)\n",
    "        SCK1 = day[var1]\n",
    "        sck1_list = np.append(np.mean(SCK1),sck1_list)\n",
    "    sck1_list = sck1_list[::-1]\n",
    "    \n",
    "    # write to columns in .csv\n",
    "    rows = zip(list_of_file_strings,sck1_list)\n",
    "    with open(output_file, 'wb') as f:\n",
    "        writer = csv.writer(f)\n",
    "        writer.writerow(['File','SCK1mean']) #titles\n",
    "        for i in rows:\n",
    "            writer.writerow(i) "
   ]
  },
  {
   "cell_type": "code",
   "execution_count": 76,
   "metadata": {
    "collapsed": true
   },
   "outputs": [],
   "source": [
    "one = ['Combined/Oct2.csv','Combined/Oct14.csv',\n",
    "         'Combined/Nov2.csv','Combined/Nov3.csv',\n",
    "         'Combined/Nov4.csv','Combined/Nov10.csv',\n",
    "         'Combined/Feb19.csv','Combined/Feb20.csv']\n",
    "\n",
    "three = ['Combined/Mar2.csv','Combined/Mar4.csv',\n",
    "         'Combined/Mar7.csv','Combined/Mar14.csv',\n",
    "         'Combined/Mar21.csv','Combined/Mar22.csv',\n",
    "         'Combined/Mar25.csv','Combined/Mar28.csv',\n",
    "         'Combined/Mar29.csv','Combined/Mar30.csv',\n",
    "         'Combined/Apr4.csv','Combined/Apr5.csv',\n",
    "         'Combined/Apr6.csv','Combined/Apr7.csv',\n",
    "         'Combined/Apr13.csv','Combined/Apr14.csv',\n",
    "         'Combined/Apr15.csv','Combined/Apr27.csv',\n",
    "         'Combined/Apr28.csv','Combined/Apr29.csv',\n",
    "         'Combined/May5.csv','Combined/May6.csv']"
   ]
  },
  {
   "cell_type": "code",
   "execution_count": 100,
   "metadata": {
    "collapsed": true
   },
   "outputs": [],
   "source": [
    "# oneRO = ['SCK_rides/RO/Oct2.csv','SCK_rides/RO/Oct14.csv',\n",
    "#          'SCK_rides/RO/Nov2.csv','SCK_rides/RO/Nov3.csv',\n",
    "#          'SCK_rides/RO/Nov4.csv','SCK_rides/RO/Nov10.csv',\n",
    "#          'SCK_rides/RO/Feb19.csv','SCK_rides/RO/Feb20.csv']\n",
    "\n",
    "# threeRO = ['SCK_rides/RO/Mar2.csv','SCK_rides/RO/Mar4.csv',\n",
    "#          'SCK_rides/RO/Mar7.csv','SCK_rides/RO/Mar14.csv',\n",
    "#          'SCK_rides/RO/Mar21.csv','SCK_rides/RO/Mar22.csv',\n",
    "#          'SCK_rides/RO/Mar25.csv','SCK_rides/RO/Mar28.csv',\n",
    "#          'SCK_rides/RO/Mar29.csv','SCK_rides/RO/Mar30.csv',\n",
    "#          'SCK_rides/RO/Apr4.csv','SCK_rides/RO/Apr5.csv',\n",
    "#          'SCK_rides/RO/Apr6.csv','SCK_rides/RO/Apr7.csv',\n",
    "#          'SCK_rides/RO/Apr13.csv','SCK_rides/RO/Apr14.csv',\n",
    "#          'SCK_rides/RO/Apr15.csv','SCK_rides/RO/Apr27.csv',\n",
    "#          'SCK_rides/RO/Apr28.csv','SCK_rides/RO/Apr29.csv',\n",
    "#          'SCK_rides/RO/May5.csv','SCK_rides/RO/May6.csv']"
   ]
  },
  {
   "cell_type": "code",
   "execution_count": 101,
   "metadata": {
    "collapsed": true
   },
   "outputs": [],
   "source": [
    "def average(one,three,var1,var2,var3,filename1,filename2,output_filename):\n",
    "    '''\n",
    "    Calls the other functions and combines them into new .csv files\n",
    "    '''\n",
    "    average_one(one,var1,filename1)\n",
    "    average_three(three,var1,var2,var3,filename2)\n",
    "    a = pd.read_csv(filename1)\n",
    "    b = pd.read_csv(filename2)\n",
    "    merged = a.merge(b, on='File', how='outer')\n",
    "    merged.to_csv(output_filename, index=False)"
   ]
  },
  {
   "cell_type": "code",
   "execution_count": 102,
   "metadata": {
    "collapsed": false
   },
   "outputs": [],
   "source": [
    "# average_SCK_one(one,'SCK1_CO','Averages/COone.csv')\n",
    "# average_SCK_three(three,'SCK1_CO','SCK2_CO','SCK3_CO','Averages/COthree.csv')"
   ]
  },
  {
   "cell_type": "code",
   "execution_count": 103,
   "metadata": {
    "collapsed": false
   },
   "outputs": [],
   "source": [
    "# a = pd.read_csv('Averages/COone.csv')\n",
    "# b = pd.read_csv('Averages/COthree.csv')\n",
    "# merged = a.merge(b, on='File', how='outer')\n",
    "# merged.to_csv('Averages/CO.csv', index=False)"
   ]
  },
  {
   "cell_type": "code",
   "execution_count": null,
   "metadata": {
    "collapsed": true
   },
   "outputs": [],
   "source": [
    "average(one,three,'SCK1_CO','SCK2_CO','SCK3_CO',\n",
    "        'Averages/COone.csv','Averages/COthree.csv','Averages/CO.csv')"
   ]
  },
  {
   "cell_type": "code",
   "execution_count": 94,
   "metadata": {
    "collapsed": false
   },
   "outputs": [],
   "source": [
    "average(one,three,'SCK1_CO','SCK2_CO','SCK3_CO',\n",
    "        'Averages/COone.csv','Averages/COthree.csv','Averages/CO.csv')"
   ]
  },
  {
   "cell_type": "code",
   "execution_count": 95,
   "metadata": {
    "collapsed": true
   },
   "outputs": [],
   "source": [
    "average(one,three,'SCK1_NO2','SCK2_NO2','SCK3_NO2',\n",
    "        'Averages/NO2one.csv','Averages/NO2three.csv','Averages/NO2.csv')"
   ]
  },
  {
   "cell_type": "code",
   "execution_count": 96,
   "metadata": {
    "collapsed": true
   },
   "outputs": [],
   "source": [
    "average(one,three,'SCK1_TC','SCK2_TC','SCK3_TC',\n",
    "        'Averages/TCone.csv','Averages/TCthree.csv','Averages/TC.csv')"
   ]
  },
  {
   "cell_type": "code",
   "execution_count": 106,
   "metadata": {
    "collapsed": false
   },
   "outputs": [],
   "source": [
    "average(one,three,'FS_TF','FS_WS','FS_WD',\n",
    "        'Averages/METone.csv','Averages/METthree.csv','Averages/MET.csv')"
   ]
  },
  {
   "cell_type": "code",
   "execution_count": null,
   "metadata": {
    "collapsed": true
   },
   "outputs": [],
   "source": []
  },
  {
   "cell_type": "code",
   "execution_count": null,
   "metadata": {
    "collapsed": true
   },
   "outputs": [],
   "source": []
  },
  {
   "cell_type": "code",
   "execution_count": null,
   "metadata": {
    "collapsed": true
   },
   "outputs": [],
   "source": []
  },
  {
   "cell_type": "code",
   "execution_count": null,
   "metadata": {
    "collapsed": true
   },
   "outputs": [],
   "source": []
  },
  {
   "cell_type": "code",
   "execution_count": null,
   "metadata": {
    "collapsed": true
   },
   "outputs": [],
   "source": [
    "# nice try"
   ]
  },
  {
   "cell_type": "code",
   "execution_count": 104,
   "metadata": {
    "collapsed": false
   },
   "outputs": [
    {
     "ename": "IOError",
     "evalue": "File SCK_rides/RO/Oct2.csv does not exist",
     "output_type": "error",
     "traceback": [
      "\u001b[0;31m---------------------------------------------------------------------------\u001b[0m",
      "\u001b[0;31mIOError\u001b[0m                                   Traceback (most recent call last)",
      "\u001b[0;32m<ipython-input-104-a51440a2a44f>\u001b[0m in \u001b[0;36m<module>\u001b[0;34m()\u001b[0m\n\u001b[1;32m      1\u001b[0m average(oneRO,threeRO,'SCK1_CO','SCK2_CO','SCK3_CO',\n\u001b[0;32m----> 2\u001b[0;31m         'Averages/COoneRO.csv','Averages/COthreeRO.csv','Averages/CO_RO.csv')\n\u001b[0m",
      "\u001b[0;32m<ipython-input-101-ec1b82f10254>\u001b[0m in \u001b[0;36maverage\u001b[0;34m(one, three, var1, var2, var3, filename1, filename2, output_filename)\u001b[0m\n\u001b[1;32m      3\u001b[0m     \u001b[0mCalls\u001b[0m \u001b[0mthe\u001b[0m \u001b[0mother\u001b[0m \u001b[0mfunctions\u001b[0m \u001b[0;32mand\u001b[0m \u001b[0mcombines\u001b[0m \u001b[0mthem\u001b[0m \u001b[0minto\u001b[0m \u001b[0mnew\u001b[0m \u001b[0;34m.\u001b[0m\u001b[0mcsv\u001b[0m \u001b[0mfiles\u001b[0m\u001b[0;34m\u001b[0m\u001b[0m\n\u001b[1;32m      4\u001b[0m     '''\n\u001b[0;32m----> 5\u001b[0;31m     \u001b[0maverage_one\u001b[0m\u001b[0;34m(\u001b[0m\u001b[0mone\u001b[0m\u001b[0;34m,\u001b[0m\u001b[0mvar1\u001b[0m\u001b[0;34m,\u001b[0m\u001b[0mfilename1\u001b[0m\u001b[0;34m)\u001b[0m\u001b[0;34m\u001b[0m\u001b[0m\n\u001b[0m\u001b[1;32m      6\u001b[0m     \u001b[0maverage_three\u001b[0m\u001b[0;34m(\u001b[0m\u001b[0mthree\u001b[0m\u001b[0;34m,\u001b[0m\u001b[0mvar1\u001b[0m\u001b[0;34m,\u001b[0m\u001b[0mvar2\u001b[0m\u001b[0;34m,\u001b[0m\u001b[0mvar3\u001b[0m\u001b[0;34m,\u001b[0m\u001b[0mfilename2\u001b[0m\u001b[0;34m)\u001b[0m\u001b[0;34m\u001b[0m\u001b[0m\n\u001b[1;32m      7\u001b[0m     \u001b[0ma\u001b[0m \u001b[0;34m=\u001b[0m \u001b[0mpd\u001b[0m\u001b[0;34m.\u001b[0m\u001b[0mread_csv\u001b[0m\u001b[0;34m(\u001b[0m\u001b[0mfilename1\u001b[0m\u001b[0;34m)\u001b[0m\u001b[0;34m\u001b[0m\u001b[0m\n",
      "\u001b[0;32m<ipython-input-75-3aa57bbb6292>\u001b[0m in \u001b[0;36maverage_one\u001b[0;34m(list_of_file_strings, var1, output_file)\u001b[0m\n\u001b[1;32m      6\u001b[0m     \u001b[0msck1_list\u001b[0m \u001b[0;34m=\u001b[0m \u001b[0;34m[\u001b[0m\u001b[0;34m]\u001b[0m\u001b[0;34m\u001b[0m\u001b[0m\n\u001b[1;32m      7\u001b[0m     \u001b[0;32mfor\u001b[0m \u001b[0mi\u001b[0m\u001b[0;34m,\u001b[0m\u001b[0mitem\u001b[0m \u001b[0;32min\u001b[0m \u001b[0menumerate\u001b[0m\u001b[0;34m(\u001b[0m\u001b[0mlist_of_file_strings\u001b[0m\u001b[0;34m)\u001b[0m\u001b[0;34m:\u001b[0m\u001b[0;34m\u001b[0m\u001b[0m\n\u001b[0;32m----> 8\u001b[0;31m         \u001b[0mday\u001b[0m \u001b[0;34m=\u001b[0m \u001b[0mpd\u001b[0m\u001b[0;34m.\u001b[0m\u001b[0mread_csv\u001b[0m\u001b[0;34m(\u001b[0m\u001b[0mitem\u001b[0m\u001b[0;34m)\u001b[0m\u001b[0;34m\u001b[0m\u001b[0m\n\u001b[0m\u001b[1;32m      9\u001b[0m         \u001b[0mSCK1\u001b[0m \u001b[0;34m=\u001b[0m \u001b[0mday\u001b[0m\u001b[0;34m[\u001b[0m\u001b[0mvar1\u001b[0m\u001b[0;34m]\u001b[0m\u001b[0;34m\u001b[0m\u001b[0m\n\u001b[1;32m     10\u001b[0m         \u001b[0msck1_list\u001b[0m \u001b[0;34m=\u001b[0m \u001b[0mnp\u001b[0m\u001b[0;34m.\u001b[0m\u001b[0mappend\u001b[0m\u001b[0;34m(\u001b[0m\u001b[0mnp\u001b[0m\u001b[0;34m.\u001b[0m\u001b[0mmean\u001b[0m\u001b[0;34m(\u001b[0m\u001b[0mSCK1\u001b[0m\u001b[0;34m)\u001b[0m\u001b[0;34m,\u001b[0m\u001b[0msck1_list\u001b[0m\u001b[0;34m)\u001b[0m\u001b[0;34m\u001b[0m\u001b[0m\n",
      "\u001b[0;32m/Users/TTUatmo/anaconda/lib/python2.7/site-packages/pandas/io/parsers.pyc\u001b[0m in \u001b[0;36mparser_f\u001b[0;34m(filepath_or_buffer, sep, dialect, compression, doublequote, escapechar, quotechar, quoting, skipinitialspace, lineterminator, header, index_col, names, prefix, skiprows, skipfooter, skip_footer, na_values, na_fvalues, true_values, false_values, delimiter, converters, dtype, usecols, engine, delim_whitespace, as_recarray, na_filter, compact_ints, use_unsigned, low_memory, buffer_lines, warn_bad_lines, error_bad_lines, keep_default_na, thousands, comment, decimal, parse_dates, keep_date_col, dayfirst, date_parser, memory_map, nrows, iterator, chunksize, verbose, encoding, squeeze, mangle_dupe_cols, tupleize_cols, infer_datetime_format)\u001b[0m\n\u001b[1;32m    450\u001b[0m                     infer_datetime_format=infer_datetime_format)\n\u001b[1;32m    451\u001b[0m \u001b[0;34m\u001b[0m\u001b[0m\n\u001b[0;32m--> 452\u001b[0;31m         \u001b[0;32mreturn\u001b[0m \u001b[0m_read\u001b[0m\u001b[0;34m(\u001b[0m\u001b[0mfilepath_or_buffer\u001b[0m\u001b[0;34m,\u001b[0m \u001b[0mkwds\u001b[0m\u001b[0;34m)\u001b[0m\u001b[0;34m\u001b[0m\u001b[0m\n\u001b[0m\u001b[1;32m    453\u001b[0m \u001b[0;34m\u001b[0m\u001b[0m\n\u001b[1;32m    454\u001b[0m     \u001b[0mparser_f\u001b[0m\u001b[0;34m.\u001b[0m\u001b[0m__name__\u001b[0m \u001b[0;34m=\u001b[0m \u001b[0mname\u001b[0m\u001b[0;34m\u001b[0m\u001b[0m\n",
      "\u001b[0;32m/Users/TTUatmo/anaconda/lib/python2.7/site-packages/pandas/io/parsers.pyc\u001b[0m in \u001b[0;36m_read\u001b[0;34m(filepath_or_buffer, kwds)\u001b[0m\n\u001b[1;32m    232\u001b[0m \u001b[0;34m\u001b[0m\u001b[0m\n\u001b[1;32m    233\u001b[0m     \u001b[0;31m# Create the parser.\u001b[0m\u001b[0;34m\u001b[0m\u001b[0;34m\u001b[0m\u001b[0m\n\u001b[0;32m--> 234\u001b[0;31m     \u001b[0mparser\u001b[0m \u001b[0;34m=\u001b[0m \u001b[0mTextFileReader\u001b[0m\u001b[0;34m(\u001b[0m\u001b[0mfilepath_or_buffer\u001b[0m\u001b[0;34m,\u001b[0m \u001b[0;34m**\u001b[0m\u001b[0mkwds\u001b[0m\u001b[0;34m)\u001b[0m\u001b[0;34m\u001b[0m\u001b[0m\n\u001b[0m\u001b[1;32m    235\u001b[0m \u001b[0;34m\u001b[0m\u001b[0m\n\u001b[1;32m    236\u001b[0m     \u001b[0;32mif\u001b[0m \u001b[0;34m(\u001b[0m\u001b[0mnrows\u001b[0m \u001b[0;32mis\u001b[0m \u001b[0;32mnot\u001b[0m \u001b[0mNone\u001b[0m\u001b[0;34m)\u001b[0m \u001b[0;32mand\u001b[0m \u001b[0;34m(\u001b[0m\u001b[0mchunksize\u001b[0m \u001b[0;32mis\u001b[0m \u001b[0;32mnot\u001b[0m \u001b[0mNone\u001b[0m\u001b[0;34m)\u001b[0m\u001b[0;34m:\u001b[0m\u001b[0;34m\u001b[0m\u001b[0m\n",
      "\u001b[0;32m/Users/TTUatmo/anaconda/lib/python2.7/site-packages/pandas/io/parsers.pyc\u001b[0m in \u001b[0;36m__init__\u001b[0;34m(self, f, engine, **kwds)\u001b[0m\n\u001b[1;32m    540\u001b[0m             \u001b[0mself\u001b[0m\u001b[0;34m.\u001b[0m\u001b[0moptions\u001b[0m\u001b[0;34m[\u001b[0m\u001b[0;34m'has_index_names'\u001b[0m\u001b[0;34m]\u001b[0m \u001b[0;34m=\u001b[0m \u001b[0mkwds\u001b[0m\u001b[0;34m[\u001b[0m\u001b[0;34m'has_index_names'\u001b[0m\u001b[0;34m]\u001b[0m\u001b[0;34m\u001b[0m\u001b[0m\n\u001b[1;32m    541\u001b[0m \u001b[0;34m\u001b[0m\u001b[0m\n\u001b[0;32m--> 542\u001b[0;31m         \u001b[0mself\u001b[0m\u001b[0;34m.\u001b[0m\u001b[0m_make_engine\u001b[0m\u001b[0;34m(\u001b[0m\u001b[0mself\u001b[0m\u001b[0;34m.\u001b[0m\u001b[0mengine\u001b[0m\u001b[0;34m)\u001b[0m\u001b[0;34m\u001b[0m\u001b[0m\n\u001b[0m\u001b[1;32m    543\u001b[0m \u001b[0;34m\u001b[0m\u001b[0m\n\u001b[1;32m    544\u001b[0m     \u001b[0;32mdef\u001b[0m \u001b[0m_get_options_with_defaults\u001b[0m\u001b[0;34m(\u001b[0m\u001b[0mself\u001b[0m\u001b[0;34m,\u001b[0m \u001b[0mengine\u001b[0m\u001b[0;34m)\u001b[0m\u001b[0;34m:\u001b[0m\u001b[0;34m\u001b[0m\u001b[0m\n",
      "\u001b[0;32m/Users/TTUatmo/anaconda/lib/python2.7/site-packages/pandas/io/parsers.pyc\u001b[0m in \u001b[0;36m_make_engine\u001b[0;34m(self, engine)\u001b[0m\n\u001b[1;32m    677\u001b[0m     \u001b[0;32mdef\u001b[0m \u001b[0m_make_engine\u001b[0m\u001b[0;34m(\u001b[0m\u001b[0mself\u001b[0m\u001b[0;34m,\u001b[0m \u001b[0mengine\u001b[0m\u001b[0;34m=\u001b[0m\u001b[0;34m'c'\u001b[0m\u001b[0;34m)\u001b[0m\u001b[0;34m:\u001b[0m\u001b[0;34m\u001b[0m\u001b[0m\n\u001b[1;32m    678\u001b[0m         \u001b[0;32mif\u001b[0m \u001b[0mengine\u001b[0m \u001b[0;34m==\u001b[0m \u001b[0;34m'c'\u001b[0m\u001b[0;34m:\u001b[0m\u001b[0;34m\u001b[0m\u001b[0m\n\u001b[0;32m--> 679\u001b[0;31m             \u001b[0mself\u001b[0m\u001b[0;34m.\u001b[0m\u001b[0m_engine\u001b[0m \u001b[0;34m=\u001b[0m \u001b[0mCParserWrapper\u001b[0m\u001b[0;34m(\u001b[0m\u001b[0mself\u001b[0m\u001b[0;34m.\u001b[0m\u001b[0mf\u001b[0m\u001b[0;34m,\u001b[0m \u001b[0;34m**\u001b[0m\u001b[0mself\u001b[0m\u001b[0;34m.\u001b[0m\u001b[0moptions\u001b[0m\u001b[0;34m)\u001b[0m\u001b[0;34m\u001b[0m\u001b[0m\n\u001b[0m\u001b[1;32m    680\u001b[0m         \u001b[0;32melse\u001b[0m\u001b[0;34m:\u001b[0m\u001b[0;34m\u001b[0m\u001b[0m\n\u001b[1;32m    681\u001b[0m             \u001b[0;32mif\u001b[0m \u001b[0mengine\u001b[0m \u001b[0;34m==\u001b[0m \u001b[0;34m'python'\u001b[0m\u001b[0;34m:\u001b[0m\u001b[0;34m\u001b[0m\u001b[0m\n",
      "\u001b[0;32m/Users/TTUatmo/anaconda/lib/python2.7/site-packages/pandas/io/parsers.pyc\u001b[0m in \u001b[0;36m__init__\u001b[0;34m(self, src, **kwds)\u001b[0m\n\u001b[1;32m   1039\u001b[0m         \u001b[0mkwds\u001b[0m\u001b[0;34m[\u001b[0m\u001b[0;34m'allow_leading_cols'\u001b[0m\u001b[0;34m]\u001b[0m \u001b[0;34m=\u001b[0m \u001b[0mself\u001b[0m\u001b[0;34m.\u001b[0m\u001b[0mindex_col\u001b[0m \u001b[0;32mis\u001b[0m \u001b[0;32mnot\u001b[0m \u001b[0mFalse\u001b[0m\u001b[0;34m\u001b[0m\u001b[0m\n\u001b[1;32m   1040\u001b[0m \u001b[0;34m\u001b[0m\u001b[0m\n\u001b[0;32m-> 1041\u001b[0;31m         \u001b[0mself\u001b[0m\u001b[0;34m.\u001b[0m\u001b[0m_reader\u001b[0m \u001b[0;34m=\u001b[0m \u001b[0m_parser\u001b[0m\u001b[0;34m.\u001b[0m\u001b[0mTextReader\u001b[0m\u001b[0;34m(\u001b[0m\u001b[0msrc\u001b[0m\u001b[0;34m,\u001b[0m \u001b[0;34m**\u001b[0m\u001b[0mkwds\u001b[0m\u001b[0;34m)\u001b[0m\u001b[0;34m\u001b[0m\u001b[0m\n\u001b[0m\u001b[1;32m   1042\u001b[0m \u001b[0;34m\u001b[0m\u001b[0m\n\u001b[1;32m   1043\u001b[0m         \u001b[0;31m# XXX\u001b[0m\u001b[0;34m\u001b[0m\u001b[0;34m\u001b[0m\u001b[0m\n",
      "\u001b[0;32mparser.pyx\u001b[0m in \u001b[0;36mpandas.parser.TextReader.__cinit__ (pandas/parser.c:3218)\u001b[0;34m()\u001b[0m\n",
      "\u001b[0;32mparser.pyx\u001b[0m in \u001b[0;36mpandas.parser.TextReader._setup_parser_source (pandas/parser.c:5594)\u001b[0;34m()\u001b[0m\n",
      "\u001b[0;31mIOError\u001b[0m: File SCK_rides/RO/Oct2.csv does not exist"
     ]
    }
   ],
   "source": [
    "average(oneRO,threeRO,'SCK1_CO','SCK2_CO','SCK3_CO',\n",
    "        'Averages/COoneRO.csv','Averages/COthreeRO.csv','Averages/CO_RO.csv')"
   ]
  },
  {
   "cell_type": "code",
   "execution_count": null,
   "metadata": {
    "collapsed": true
   },
   "outputs": [],
   "source": [
    "test[]"
   ]
  },
  {
   "cell_type": "code",
   "execution_count": 24,
   "metadata": {
    "collapsed": false
   },
   "outputs": [],
   "source": [
    "sck1_list = []\n",
    "sck2_list = []\n",
    "sck3_list = []\n",
    "for i,item in enumerate(group):\n",
    "    day = pd.read_csv(item)\n",
    "    SCK1 = day['SCK1_CO']\n",
    "    SCK2 = day['SCK2_CO']\n",
    "    SCK3 = day['SCK3_CO']\n",
    "    sck1_list = np.append(np.mean(SCK1),sck1_list)\n",
    "    sck2_list = np.append(np.mean(SCK2),sck2_list)\n",
    "    sck2_list = np.append(np.mean(SCK3),sck3_list)\n",
    "sck1_list = sck1_list[::-1]\n",
    "sck2_list = sck2_list[::-1]\n",
    "sck3_list = sck3_list[::-1]"
   ]
  },
  {
   "cell_type": "code",
   "execution_count": 28,
   "metadata": {
    "collapsed": false
   },
   "outputs": [
    {
     "data": {
      "text/plain": [
       "889.10924427767361"
      ]
     },
     "execution_count": 28,
     "metadata": {},
     "output_type": "execute_result"
    }
   ],
   "source": [
    "sck1_list[0]"
   ]
  },
  {
   "cell_type": "code",
   "execution_count": 29,
   "metadata": {
    "collapsed": false
   },
   "outputs": [
    {
     "data": {
      "text/plain": [
       "'Combined/Apr13.csv'"
      ]
     },
     "execution_count": 29,
     "metadata": {},
     "output_type": "execute_result"
    }
   ],
   "source": [
    "group[0]"
   ]
  },
  {
   "cell_type": "code",
   "execution_count": null,
   "metadata": {
    "collapsed": true
   },
   "outputs": [],
   "source": []
  }
 ],
 "metadata": {
  "kernelspec": {
   "display_name": "Python 2",
   "language": "python",
   "name": "python2"
  },
  "language_info": {
   "codemirror_mode": {
    "name": "ipython",
    "version": 2
   },
   "file_extension": ".py",
   "mimetype": "text/x-python",
   "name": "python",
   "nbconvert_exporter": "python",
   "pygments_lexer": "ipython2",
   "version": "2.7.10"
  }
 },
 "nbformat": 4,
 "nbformat_minor": 0
}
