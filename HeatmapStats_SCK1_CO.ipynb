{
 "cells": [
  {
   "cell_type": "code",
   "execution_count": 1,
   "metadata": {
    "collapsed": true
   },
   "outputs": [],
   "source": [
    "%matplotlib inline\n",
    "import matplotlib.pyplot as plt\n",
    "import pandas as pd\n",
    "import numpy as np\n",
    "import scipy.stats as stats"
   ]
  },
  {
   "cell_type": "code",
   "execution_count": 3,
   "metadata": {
    "collapsed": true
   },
   "outputs": [],
   "source": [
    "# all data for each individual SCK: SCK1[n=26], SCK2[n=22], SCK2[n=21]\n",
    "SCK1 = pd.read_csv('Combined/CO_ALL_SCK1.csv')\n",
    "SCK2 = pd.read_csv('Combined/CO_ALL_SCK2.csv')\n",
    "SCK3 = pd.read_csv('Combined/CO_ALL_SCK3.csv')"
   ]
  },
  {
   "cell_type": "code",
   "execution_count": 4,
   "metadata": {
    "collapsed": true
   },
   "outputs": [],
   "source": [
    "# the lowest 10% of CO each day overlaid for all days\n",
    "SCK1_tenCO = pd.read_csv('Combined/CO_ten_SCK1.csv')\n",
    "SCK2_tenCO = pd.read_csv('Combined/CO_ten_SCK2.csv')\n",
    "SCK3_tenCO = pd.read_csv('Combined/CO_ten_SCK3.csv')"
   ]
  },
  {
   "cell_type": "code",
   "execution_count": 5,
   "metadata": {
    "collapsed": true
   },
   "outputs": [],
   "source": [
    "# the highest 10% of NO2 each day overlaid for all days\n",
    "SCK1_tenNO2 = pd.read_csv('Combined/NO2_ten_SCK1.csv')\n",
    "SCK2_tenNO2 = pd.read_csv('Combined/NO2_ten_SCK2.csv')\n",
    "SCK3_tenNO2 = pd.read_csv('Combined/NO2_ten_SCK3.csv')"
   ]
  },
  {
   "cell_type": "code",
   "execution_count": 94,
   "metadata": {
    "collapsed": false
   },
   "outputs": [],
   "source": [
    "# specific part of the top ten % at an intersection\n",
    "SCK1_CO_19th_knox = pd.read_csv('GISjuly/SCK1_CO_19th_knox.txt')\n",
    "SCK1_CO_19th_mem = pd.read_csv('GISjuly/SCK1_CO_19th_mem.txt')\n",
    "SCK1_CO_21st_mem = pd.read_csv('GISjuly/SCK1_CO_21st_mem.txt')\n",
    "SCK1_CO_24th_quak = pd.read_csv('GISjuly/SCK1_CO_24th_quak.txt')\n",
    "SCK1_CO_TTUpkwy_ind = pd.read_csv('GISjuly/SCK1_CO_TTUpkwy_ind.txt')\n",
    "SCK1_CO_TTUpkwy_knox = pd.read_csv('GISjuly/SCK1_CO_TTUpkwy_knox.txt')"
   ]
  },
  {
   "cell_type": "code",
   "execution_count": 38,
   "metadata": {
    "collapsed": false
   },
   "outputs": [],
   "source": [
    "def mean(var):\n",
    "    print 'mean', np.mean(var), '  std', np.std(var)"
   ]
  },
  {
   "cell_type": "code",
   "execution_count": 95,
   "metadata": {
    "collapsed": false
   },
   "outputs": [
    {
     "name": "stdout",
     "output_type": "stream",
     "text": [
      "mean 589.400824163   std 116.556733823\n",
      "mean 545.4682423   std 105.003944864\n",
      "mean 594.263772222   std 104.275420139\n",
      "mean 609.0716   std 77.0358988762\n",
      "mean 652.930724   std 88.937842934\n",
      "mean 541.438913131   std 118.001007298\n",
      "mean 555.829697685   std 122.443497624\n"
     ]
    }
   ],
   "source": [
    "mean(SCK1_tenCO['SCK1_CO'])\n",
    "mean(SCK1_CO_19th_knox['SCK1_CO'])\n",
    "mean(SCK1_CO_19th_mem['SCK1_CO'])\n",
    "mean(SCK1_CO_21st_mem['SCK1_CO'])\n",
    "mean(SCK1_CO_24th_quak['SCK1_CO'])\n",
    "mean(SCK1_CO_TTUpkwy_ind['SCK1_CO'])\n",
    "mean(SCK1_CO_TTUpkwy_knox['SCK1_CO'])"
   ]
  },
  {
   "cell_type": "code",
   "execution_count": 98,
   "metadata": {
    "collapsed": false
   },
   "outputs": [],
   "source": [
    "def boxplot_days(data1,data2,data3,data4,data5,data6,data7,title,ylabel):\n",
    "    fig = plt.figure(figsize=[12,8])\n",
    "    ax = plt.axes()\n",
    "    ax.set_title(title,fontsize=14)\n",
    "    ax.set_ylabel(ylabel,fontsize=18)\n",
    "    ax.boxplot(data1, positions=[1], widths=0.3)\n",
    "    ax.boxplot(data2, positions=[2], widths=0.3)\n",
    "    ax.boxplot(data3, positions=[3], widths=0.3)\n",
    "    ax.boxplot(data4, positions=[4], widths=0.3)\n",
    "    ax.boxplot(data5, positions=[5], widths=0.3)\n",
    "    ax.boxplot(data6, positions=[6], widths=0.3)\n",
    "    ax.boxplot(data7, positions=[7], widths=0.3)\n",
    "    ax.set_xlim(0.5,7.5)\n",
    "    ax.set_xticks([1,2,3,4,5,6,7])\n",
    "    ax.set_yticklabels([200,300,400,500,600,700,800,900],fontsize=12)\n",
    "    ax.set_xticklabels(['tenCO', '19th_knox','19th_mem','21st_mem',\n",
    "                        '24th_quak','TTUpkwy_ind','TTUpkwy_knox'],fontsize=12)"
   ]
  },
  {
   "cell_type": "code",
   "execution_count": 99,
   "metadata": {
    "collapsed": false,
    "scrolled": true
   },
   "outputs": [
    {
     "data": {
      "image/png": "[encoded data removed]",
      "text/plain": [
       "<matplotlib.figure.Figure at 0x10eadc510>"
      ]
     },
     "metadata": {},
     "output_type": "display_data"
    }
   ],
   "source": [
    "boxplot_days(SCK1_tenCO['SCK1_CO'],SCK1_CO_19th_knox['SCK1_CO'],\n",
    "             SCK1_CO_19th_mem['SCK1_CO'],SCK1_CO_21st_mem['SCK1_CO'],\n",
    "             SCK1_CO_24th_quak['SCK1_CO'],SCK1_CO_TTUpkwy_ind['SCK1_CO'],\n",
    "             SCK1_CO_TTUpkwy_knox['SCK1_CO'],'title','$CO$ $(k\\Omega)$')"
   ]
  },
  {
   "cell_type": "code",
   "execution_count": 75,
   "metadata": {
    "collapsed": false
   },
   "outputs": [
    {
     "data": {
      "text/plain": [
       "(3.9075728193057335, 9.6951955489762073e-05)"
      ]
     },
     "execution_count": 75,
     "metadata": {},
     "output_type": "execute_result"
    }
   ],
   "source": [
    "stats.ttest_ind(SCK1_tenCO['SCK1_CO'],SCK1_CO_19th_knox['SCK1_CO'])"
   ]
  },
  {
   "cell_type": "code",
   "execution_count": 76,
   "metadata": {
    "collapsed": false
   },
   "outputs": [
    {
     "data": {
      "text/plain": [
       "(-0.34743216541986516, 0.72831160936124983)"
      ]
     },
     "execution_count": 76,
     "metadata": {},
     "output_type": "execute_result"
    }
   ],
   "source": [
    "stats.ttest_ind(SCK1_tenCO['SCK1_CO'],SCK1_CO_19th_mem['SCK1_CO'])"
   ]
  },
  {
   "cell_type": "code",
   "execution_count": 100,
   "metadata": {
    "collapsed": false
   },
   "outputs": [
    {
     "data": {
      "text/plain": [
       "(-1.6224488996139397, 0.10489830343566547)"
      ]
     },
     "execution_count": 100,
     "metadata": {},
     "output_type": "execute_result"
    }
   ],
   "source": [
    "stats.ttest_ind(SCK1_tenCO['SCK1_CO'],SCK1_CO_21st_mem['SCK1_CO'])"
   ]
  },
  {
   "cell_type": "code",
   "execution_count": 77,
   "metadata": {
    "collapsed": false
   },
   "outputs": [
    {
     "data": {
      "text/plain": [
       "(-7.4309920967938261, 1.674983143565195e-13)"
      ]
     },
     "execution_count": 77,
     "metadata": {},
     "output_type": "execute_result"
    }
   ],
   "source": [
    "stats.ttest_ind(SCK1_tenCO['SCK1_CO'],SCK1_CO_24th_quak['SCK1_CO'])"
   ]
  },
  {
   "cell_type": "code",
   "execution_count": 78,
   "metadata": {
    "collapsed": false
   },
   "outputs": [
    {
     "data": {
      "text/plain": [
       "(4.164992937763536, 3.2731071030750985e-05)"
      ]
     },
     "execution_count": 78,
     "metadata": {},
     "output_type": "execute_result"
    }
   ],
   "source": [
    "stats.ttest_ind(SCK1_tenCO['SCK1_CO'],SCK1_CO_TTUpkwy_ind['SCK1_CO'])"
   ]
  },
  {
   "cell_type": "code",
   "execution_count": 79,
   "metadata": {
    "collapsed": false
   },
   "outputs": [
    {
     "data": {
      "text/plain": [
       "(2.729021980946678, 0.0064196537696935814)"
      ]
     },
     "execution_count": 79,
     "metadata": {},
     "output_type": "execute_result"
    }
   ],
   "source": [
    "stats.ttest_ind(SCK1_tenCO['SCK1_CO'],SCK1_CO_TTUpkwy_knox['SCK1_CO'])"
   ]
  },
  {
   "cell_type": "code",
   "execution_count": null,
   "metadata": {
    "collapsed": true
   },
   "outputs": [],
   "source": []
  }
 ],
 "metadata": {
  "kernelspec": {
   "display_name": "Python 2",
   "language": "python",
   "name": "python2"
  },
  "language_info": {
   "codemirror_mode": {
    "name": "ipython",
    "version": 2
   },
   "file_extension": ".py",
   "mimetype": "text/x-python",
   "name": "python",
   "nbconvert_exporter": "python",
   "pygments_lexer": "ipython2",
   "version": "2.7.10"
  }
 },
 "nbformat": 4,
 "nbformat_minor": 0
}
