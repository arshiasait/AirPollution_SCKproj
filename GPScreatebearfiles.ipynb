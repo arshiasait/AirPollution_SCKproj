{
 "cells": [
  {
   "cell_type": "code",
   "execution_count": 12,
   "metadata": {
    "collapsed": true
   },
   "outputs": [],
   "source": [
    "%matplotlib inline\n",
    "import matplotlib.pyplot as plt"
   ]
  },
  {
   "cell_type": "code",
   "execution_count": 13,
   "metadata": {
    "collapsed": true
   },
   "outputs": [],
   "source": [
    "import math\n",
    "import pandas as pd\n",
    "import numpy as np\n",
    "import csv\n",
    "import datetime\n",
    "\n",
    "def calculate_initial_compass_bearing(pointA, pointB):\n",
    "    \"\"\"\n",
    "    From https://gist.github.com/jeromer/2005586\n",
    "    Calculates the bearing between two points.\n",
    "    The formulae used is the following:\n",
    "        θ = atan2(sin(Δlong).cos(lat2),\n",
    "                  cos(lat1).sin(lat2) − sin(lat1).cos(lat2).cos(Δlong))\n",
    "    :Parameters:\n",
    "      - `pointA: The tuple representing the latitude/longitude for the\n",
    "        first point. Latitude and longitude must be in decimal degrees\n",
    "      - `pointB: The tuple representing the latitude/longitude for the\n",
    "        second point. Latitude and longitude must be in decimal degrees\n",
    "    :Returns:\n",
    "      The bearing in degrees\n",
    "    :Returns Type:\n",
    "      float\n",
    "    \"\"\"\n",
    "    if (type(pointA) != tuple) or (type(pointB) != tuple):\n",
    "        raise TypeError(\"Only tuples are supported as arguments\")\n",
    "\n",
    "    lat1 = math.radians(pointA[0])\n",
    "    lat2 = math.radians(pointB[0])\n",
    "\n",
    "    diffLong = math.radians(pointB[1] - pointA[1])\n",
    "\n",
    "    x = math.sin(diffLong) * math.cos(lat2)\n",
    "    y = math.cos(lat1) * math.sin(lat2) - (math.sin(lat1)\n",
    "            * math.cos(lat2) * math.cos(diffLong))\n",
    "\n",
    "    initial_bearing = math.atan2(x, y)\n",
    "\n",
    "    # Now we have the initial bearing but math.atan2 return values\n",
    "    # from -180° to + 180° which is not what we want for a compass bearing\n",
    "    # The solution is to normalize the initial bearing as shown below\n",
    "    initial_bearing = math.degrees(initial_bearing)\n",
    "    compass_bearing = (initial_bearing + 360) % 360\n",
    "\n",
    "    return compass_bearing\n",
    "\n",
    "\n",
    "def createbear_outputnew(filename,newfile):\n",
    "    \n",
    "    GPS = pd.read_csv(filename,skiprows=19,error_bad_lines=False)\n",
    "    GPS = GPS[:-6] # skipping the last six row because that's not useful\n",
    "    timestamp = GPS['timestamp(s)']\n",
    "    lat = GPS['position_lat(semicircles)']\n",
    "    lon = GPS['position_long(semicircles)']\n",
    "    spd = GPS['speed(m/s)']\n",
    "    dist = GPS['distance(m)']\n",
    "    \n",
    "    # correcting the timestamp\n",
    "    gpstime = []\n",
    "    for i in range(0,len(timestamp)):\n",
    "        ddt = datetime.datetime.strptime(timestamp[i],\"%Y-%m-%d %H:%M:%S\")\n",
    "        adj = ddt + datetime.timedelta(hours=-7)\n",
    "        gpstime = np.append(str(adj),gpstime)\n",
    "    gpstime = gpstime[::-1]\n",
    "    \n",
    "    # converting from Garmin semicircles to degree coordinates\n",
    "    lat_deg = []\n",
    "    for item in lat:\n",
    "        new = float(item)*(180/float(np.power(2,31)))\n",
    "        lat_deg = np.append(new,lat_deg)\n",
    "    lat_deg=lat_deg[::-1]\n",
    "\n",
    "    lon_deg = []\n",
    "    for item in lon:\n",
    "        new2 = float(item)*(180/float(np.power(2,31)))\n",
    "        lon_deg = np.append(new2,lon_deg)\n",
    "    lon_deg=lon_deg[::-1]\n",
    "    \n",
    "    bear = []\n",
    "    for i in range(len(lat_deg)-1):\n",
    "        bear = np.append(calculate_initial_compass_bearing((lat_deg[i],lon_deg[i]),(lat_deg[i+1],lon_deg[i+1])),bear)\n",
    "    bear = bear[::-1]\n",
    "    bear = np.append(0,bear) # add on the first bear as zero\n",
    "    \n",
    "     # write to new .csv files\n",
    "    rows = zip(gpstime,lat_deg,lon_deg,spd,bear,dist)\n",
    "    with open(newfile, 'wb') as f:\n",
    "        writer = csv.writer(f)\n",
    "        writer.writerow(['GPStime','lat(DD)','lon(DD)','speed(m/s)','bearing(deg)','distance(m)'])\n",
    "        for i in rows:\n",
    "            writer.writerow(i)"
   ]
  },
  {
   "cell_type": "code",
   "execution_count": 14,
   "metadata": {
    "collapsed": true
   },
   "outputs": [],
   "source": [
    "def createbear_outputnew_newhour(filename,newfile):\n",
    "    \n",
    "    '''\n",
    "    On May 24, found that four days have incorrect times by one hour. Made this for them.\n",
    "    '''\n",
    "    \n",
    "    GPS = pd.read_csv(filename,skiprows=19,error_bad_lines=False)\n",
    "    GPS = GPS[:-6] # skipping the last six row because that's not useful\n",
    "    timestamp = GPS['timestamp(s)']\n",
    "    lat = GPS['position_lat(semicircles)']\n",
    "    lon = GPS['position_long(semicircles)']\n",
    "    spd = GPS['speed(m/s)']\n",
    "    dist = GPS['distance(m)']\n",
    "    \n",
    "    # correcting the timestamp\n",
    "    gpstime = []\n",
    "    for i in range(0,len(timestamp)):\n",
    "        ddt = datetime.datetime.strptime(timestamp[i],\"%Y-%m-%d %H:%M:%S\")\n",
    "        adj = ddt + datetime.timedelta(hours=-6)\n",
    "        gpstime = np.append(str(adj),gpstime)\n",
    "    gpstime = gpstime[::-1]\n",
    "    \n",
    "    # converting from Garmin semicircles to degree coordinates\n",
    "    lat_deg = []\n",
    "    for item in lat:\n",
    "        new = float(item)*(180/float(np.power(2,31)))\n",
    "        lat_deg = np.append(new,lat_deg)\n",
    "    lat_deg=lat_deg[::-1]\n",
    "\n",
    "    lon_deg = []\n",
    "    for item in lon:\n",
    "        new2 = float(item)*(180/float(np.power(2,31)))\n",
    "        lon_deg = np.append(new2,lon_deg)\n",
    "    lon_deg=lon_deg[::-1]\n",
    "    \n",
    "    bear = []\n",
    "    for i in range(len(lat_deg)-1):\n",
    "        bear = np.append(calculate_initial_compass_bearing((lat_deg[i],lon_deg[i]),(lat_deg[i+1],lon_deg[i+1])),bear)\n",
    "    bear = bear[::-1]\n",
    "    bear = np.append(0,bear) # add on the first bear as zero\n",
    "    \n",
    "     # write to new .csv files\n",
    "    rows = zip(gpstime,lat_deg,lon_deg,spd,bear,dist)\n",
    "    with open(newfile, 'wb') as f:\n",
    "        writer = csv.writer(f)\n",
    "        writer.writerow(['GPStime','lat(DD)','lon(DD)','speed(m/s)','bearing(deg)','distance(m)'])\n",
    "        for i in rows:\n",
    "            writer.writerow(i)"
   ]
  },
  {
   "cell_type": "code",
   "execution_count": 15,
   "metadata": {
    "collapsed": false
   },
   "outputs": [
    {
     "name": "stderr",
     "output_type": "stream",
     "text": [
      "Skipping line 180: expected 9 fields, saw 17\n",
      "Skipping line 181: expected 9 fields, saw 17\n",
      "Skipping line 182: expected 9 fields, saw 17\n",
      "Skipping line 183: expected 9 fields, saw 111\n",
      "Skipping line 184: expected 9 fields, saw 37\n",
      "Skipping line 185: expected 9 fields, saw 37\n",
      "Skipping line 187: expected 9 fields, saw 123\n",
      "Skipping line 188: expected 9 fields, saw 41\n",
      "Skipping line 189: expected 9 fields, saw 41\n",
      "Skipping line 190: expected 9 fields, saw 24\n",
      "\n"
     ]
    }
   ],
   "source": [
    "createbear_outputnew('From_conversion_website/2015-10-02-15-29-45.csv','BEAR/Oct2.csv')"
   ]
  },
  {
   "cell_type": "code",
   "execution_count": 16,
   "metadata": {
    "collapsed": false
   },
   "outputs": [
    {
     "name": "stderr",
     "output_type": "stream",
     "text": [
      "Skipping line 262: expected 9 fields, saw 12\n",
      "Skipping line 263: expected 9 fields, saw 12\n",
      "Skipping line 565: expected 9 fields, saw 17\n",
      "Skipping line 566: expected 9 fields, saw 17\n",
      "Skipping line 567: expected 9 fields, saw 17\n",
      "Skipping line 568: expected 9 fields, saw 111\n",
      "Skipping line 569: expected 9 fields, saw 37\n",
      "Skipping line 570: expected 9 fields, saw 37\n",
      "Skipping line 572: expected 9 fields, saw 123\n",
      "Skipping line 573: expected 9 fields, saw 41\n",
      "Skipping line 574: expected 9 fields, saw 41\n",
      "Skipping line 575: expected 9 fields, saw 24\n",
      "\n"
     ]
    }
   ],
   "source": [
    "createbear_outputnew('From_conversion_website/2015-10-14-15-09-08.csv','BEAR/Oct14.csv')"
   ]
  },
  {
   "cell_type": "code",
   "execution_count": 25,
   "metadata": {
    "collapsed": false
   },
   "outputs": [
    {
     "name": "stderr",
     "output_type": "stream",
     "text": [
      "Skipping line 389: expected 9 fields, saw 12\n",
      "Skipping line 390: expected 9 fields, saw 12\n",
      "Skipping line 490: expected 9 fields, saw 17\n",
      "Skipping line 491: expected 9 fields, saw 17\n",
      "Skipping line 492: expected 9 fields, saw 17\n",
      "Skipping line 493: expected 9 fields, saw 111\n",
      "Skipping line 494: expected 9 fields, saw 37\n",
      "Skipping line 495: expected 9 fields, saw 37\n",
      "Skipping line 497: expected 9 fields, saw 123\n",
      "Skipping line 498: expected 9 fields, saw 41\n",
      "Skipping line 499: expected 9 fields, saw 41\n",
      "Skipping line 500: expected 9 fields, saw 24\n",
      "\n"
     ]
    }
   ],
   "source": [
    "createbear_outputnew('From_conversion_website/2015-11-02-15-34-48.csv','BEAR/Nov2.csv')"
   ]
  },
  {
   "cell_type": "code",
   "execution_count": 26,
   "metadata": {
    "collapsed": false
   },
   "outputs": [
    {
     "name": "stderr",
     "output_type": "stream",
     "text": [
      "Skipping line 89: expected 9 fields, saw 12\n",
      "Skipping line 90: expected 9 fields, saw 12\n",
      "Skipping line 384: expected 9 fields, saw 12\n",
      "Skipping line 385: expected 9 fields, saw 12\n",
      "Skipping line 525: expected 9 fields, saw 17\n",
      "Skipping line 526: expected 9 fields, saw 17\n",
      "Skipping line 527: expected 9 fields, saw 17\n",
      "Skipping line 528: expected 9 fields, saw 111\n",
      "Skipping line 529: expected 9 fields, saw 37\n",
      "Skipping line 530: expected 9 fields, saw 37\n",
      "Skipping line 532: expected 9 fields, saw 123\n",
      "Skipping line 533: expected 9 fields, saw 41\n",
      "Skipping line 534: expected 9 fields, saw 41\n",
      "Skipping line 535: expected 9 fields, saw 24\n",
      "\n"
     ]
    }
   ],
   "source": [
    "createbear_outputnew('From_conversion_website/2015-11-03-16-41-16.csv','BEAR/Nov3.csv')"
   ]
  },
  {
   "cell_type": "code",
   "execution_count": 27,
   "metadata": {
    "collapsed": false
   },
   "outputs": [
    {
     "name": "stderr",
     "output_type": "stream",
     "text": [
      "Skipping line 206: expected 9 fields, saw 12\n",
      "Skipping line 207: expected 9 fields, saw 12\n",
      "Skipping line 618: expected 9 fields, saw 12\n",
      "Skipping line 619: expected 9 fields, saw 12\n",
      "Skipping line 622: expected 9 fields, saw 17\n",
      "Skipping line 623: expected 9 fields, saw 17\n",
      "Skipping line 624: expected 9 fields, saw 17\n",
      "Skipping line 625: expected 9 fields, saw 111\n",
      "Skipping line 626: expected 9 fields, saw 37\n",
      "Skipping line 627: expected 9 fields, saw 37\n",
      "Skipping line 629: expected 9 fields, saw 123\n",
      "Skipping line 630: expected 9 fields, saw 41\n",
      "Skipping line 631: expected 9 fields, saw 41\n",
      "Skipping line 632: expected 9 fields, saw 24\n",
      "\n"
     ]
    }
   ],
   "source": [
    "createbear_outputnew('From_conversion_website/2015-11-04-15-46-57.csv','BEAR/Nov4.csv')"
   ]
  },
  {
   "cell_type": "code",
   "execution_count": 28,
   "metadata": {
    "collapsed": false
   },
   "outputs": [
    {
     "name": "stderr",
     "output_type": "stream",
     "text": [
      "Skipping line 57: expected 9 fields, saw 12\n",
      "Skipping line 58: expected 9 fields, saw 12\n",
      "Skipping line 440: expected 9 fields, saw 12\n",
      "Skipping line 441: expected 9 fields, saw 12\n",
      "Skipping line 537: expected 9 fields, saw 17\n",
      "Skipping line 538: expected 9 fields, saw 17\n",
      "Skipping line 539: expected 9 fields, saw 17\n",
      "Skipping line 540: expected 9 fields, saw 111\n",
      "Skipping line 541: expected 9 fields, saw 37\n",
      "Skipping line 542: expected 9 fields, saw 37\n",
      "Skipping line 544: expected 9 fields, saw 123\n",
      "Skipping line 545: expected 9 fields, saw 41\n",
      "Skipping line 546: expected 9 fields, saw 41\n",
      "Skipping line 547: expected 9 fields, saw 24\n",
      "\n"
     ]
    }
   ],
   "source": [
    "createbear_outputnew('From_conversion_website/2015-11-10-15-49-11.csv','BEAR/Nov10.csv')"
   ]
  },
  {
   "cell_type": "code",
   "execution_count": 29,
   "metadata": {
    "collapsed": false
   },
   "outputs": [
    {
     "name": "stderr",
     "output_type": "stream",
     "text": [
      "Skipping line 170: expected 9 fields, saw 12\n",
      "Skipping line 171: expected 9 fields, saw 12\n",
      "Skipping line 521: expected 9 fields, saw 17\n",
      "Skipping line 522: expected 9 fields, saw 17\n",
      "Skipping line 523: expected 9 fields, saw 17\n",
      "Skipping line 524: expected 9 fields, saw 111\n",
      "Skipping line 525: expected 9 fields, saw 37\n",
      "Skipping line 526: expected 9 fields, saw 37\n",
      "Skipping line 528: expected 9 fields, saw 123\n",
      "Skipping line 529: expected 9 fields, saw 41\n",
      "Skipping line 530: expected 9 fields, saw 41\n",
      "Skipping line 531: expected 9 fields, saw 24\n",
      "\n"
     ]
    }
   ],
   "source": [
    "createbear_outputnew('From_conversion_website/2016-02-19-16-05-50.csv','BEAR/Feb19.csv')"
   ]
  },
  {
   "cell_type": "code",
   "execution_count": 30,
   "metadata": {
    "collapsed": false
   },
   "outputs": [
    {
     "name": "stderr",
     "output_type": "stream",
     "text": [
      "Skipping line 204: expected 9 fields, saw 12\n",
      "Skipping line 205: expected 9 fields, saw 12\n",
      "Skipping line 602: expected 9 fields, saw 17\n",
      "Skipping line 603: expected 9 fields, saw 17\n",
      "Skipping line 604: expected 9 fields, saw 17\n",
      "Skipping line 605: expected 9 fields, saw 111\n",
      "Skipping line 606: expected 9 fields, saw 37\n",
      "Skipping line 607: expected 9 fields, saw 37\n",
      "Skipping line 609: expected 9 fields, saw 123\n",
      "Skipping line 610: expected 9 fields, saw 41\n",
      "Skipping line 611: expected 9 fields, saw 41\n",
      "Skipping line 612: expected 9 fields, saw 24\n",
      "\n"
     ]
    }
   ],
   "source": [
    "createbear_outputnew('From_conversion_website/2016-02-20-15-39-14.csv','BEAR/Feb20.csv')"
   ]
  },
  {
   "cell_type": "code",
   "execution_count": 21,
   "metadata": {
    "collapsed": false
   },
   "outputs": [],
   "source": [
    "createbear_outputnew('From_conversion_website/2016-03-02-16-00-37.csv','BEAR/Mar2.csv')"
   ]
  },
  {
   "cell_type": "code",
   "execution_count": 32,
   "metadata": {
    "collapsed": false
   },
   "outputs": [
    {
     "name": "stderr",
     "output_type": "stream",
     "text": [
      "Skipping line 259: expected 9 fields, saw 12\n",
      "Skipping line 260: expected 9 fields, saw 12\n",
      "Skipping line 537: expected 9 fields, saw 17\n",
      "Skipping line 538: expected 9 fields, saw 17\n",
      "Skipping line 539: expected 9 fields, saw 17\n",
      "Skipping line 540: expected 9 fields, saw 111\n",
      "Skipping line 541: expected 9 fields, saw 37\n",
      "Skipping line 542: expected 9 fields, saw 37\n",
      "Skipping line 544: expected 9 fields, saw 123\n",
      "Skipping line 545: expected 9 fields, saw 41\n",
      "Skipping line 546: expected 9 fields, saw 41\n",
      "Skipping line 547: expected 9 fields, saw 24\n",
      "\n"
     ]
    }
   ],
   "source": [
    "createbear_outputnew('From_conversion_website/2016-03-04-16-04-51.csv','BEAR/Mar4.csv')"
   ]
  },
  {
   "cell_type": "code",
   "execution_count": 33,
   "metadata": {
    "collapsed": false
   },
   "outputs": [
    {
     "name": "stderr",
     "output_type": "stream",
     "text": [
      "Skipping line 415: expected 9 fields, saw 12\n",
      "Skipping line 416: expected 9 fields, saw 12\n",
      "Skipping line 582: expected 9 fields, saw 17\n",
      "Skipping line 583: expected 9 fields, saw 17\n",
      "Skipping line 584: expected 9 fields, saw 17\n",
      "Skipping line 585: expected 9 fields, saw 111\n",
      "Skipping line 586: expected 9 fields, saw 37\n",
      "Skipping line 587: expected 9 fields, saw 37\n",
      "Skipping line 589: expected 9 fields, saw 123\n",
      "Skipping line 590: expected 9 fields, saw 41\n",
      "Skipping line 591: expected 9 fields, saw 41\n",
      "Skipping line 592: expected 9 fields, saw 24\n",
      "\n"
     ]
    }
   ],
   "source": [
    "createbear_outputnew('From_conversion_website/2016-03-07-16-20-48.csv','BEAR/Mar7.csv')"
   ]
  },
  {
   "cell_type": "code",
   "execution_count": 8,
   "metadata": {
    "collapsed": false
   },
   "outputs": [
    {
     "name": "stderr",
     "output_type": "stream",
     "text": [
      "Skipping line 106: expected 9 fields, saw 12\n",
      "Skipping line 107: expected 9 fields, saw 12\n",
      "Skipping line 151: expected 9 fields, saw 12\n",
      "Skipping line 152: expected 9 fields, saw 12\n",
      "Skipping line 686: expected 9 fields, saw 17\n",
      "Skipping line 687: expected 9 fields, saw 17\n",
      "Skipping line 688: expected 9 fields, saw 17\n",
      "Skipping line 689: expected 9 fields, saw 111\n",
      "Skipping line 690: expected 9 fields, saw 37\n",
      "Skipping line 691: expected 9 fields, saw 37\n",
      "Skipping line 693: expected 9 fields, saw 123\n",
      "Skipping line 694: expected 9 fields, saw 41\n",
      "Skipping line 695: expected 9 fields, saw 41\n",
      "Skipping line 696: expected 9 fields, saw 24\n",
      "\n"
     ]
    }
   ],
   "source": [
    "createbear_outputnew_newhour('From_conversion_website/2016-03-14-16-10-38.csv','BEAR/Mar14.csv')"
   ]
  },
  {
   "cell_type": "code",
   "execution_count": 9,
   "metadata": {
    "collapsed": false
   },
   "outputs": [
    {
     "name": "stderr",
     "output_type": "stream",
     "text": [
      "Skipping line 127: expected 9 fields, saw 12\n",
      "Skipping line 128: expected 9 fields, saw 12\n",
      "Skipping line 353: expected 9 fields, saw 12\n",
      "Skipping line 354: expected 9 fields, saw 12\n",
      "Skipping line 630: expected 9 fields, saw 17\n",
      "Skipping line 631: expected 9 fields, saw 17\n",
      "Skipping line 632: expected 9 fields, saw 17\n",
      "Skipping line 633: expected 9 fields, saw 111\n",
      "Skipping line 634: expected 9 fields, saw 37\n",
      "Skipping line 635: expected 9 fields, saw 37\n",
      "Skipping line 637: expected 9 fields, saw 123\n",
      "Skipping line 638: expected 9 fields, saw 41\n",
      "Skipping line 639: expected 9 fields, saw 41\n",
      "Skipping line 640: expected 9 fields, saw 24\n",
      "\n"
     ]
    }
   ],
   "source": [
    "createbear_outputnew_newhour('From_conversion_website/2016-03-21-16-23-46.csv','BEAR/Mar21.csv')"
   ]
  },
  {
   "cell_type": "code",
   "execution_count": 10,
   "metadata": {
    "collapsed": false
   },
   "outputs": [
    {
     "name": "stderr",
     "output_type": "stream",
     "text": [
      "Skipping line 240: expected 9 fields, saw 12\n",
      "Skipping line 241: expected 9 fields, saw 12\n",
      "Skipping line 763: expected 9 fields, saw 17\n",
      "Skipping line 764: expected 9 fields, saw 17\n",
      "Skipping line 765: expected 9 fields, saw 17\n",
      "Skipping line 766: expected 9 fields, saw 111\n",
      "Skipping line 767: expected 9 fields, saw 37\n",
      "Skipping line 768: expected 9 fields, saw 37\n",
      "Skipping line 770: expected 9 fields, saw 123\n",
      "Skipping line 771: expected 9 fields, saw 41\n",
      "Skipping line 772: expected 9 fields, saw 41\n",
      "Skipping line 773: expected 9 fields, saw 24\n",
      "\n"
     ]
    }
   ],
   "source": [
    "createbear_outputnew_newhour('From_conversion_website/2016-03-22-15-54-05.csv','BEAR/Mar22.csv')"
   ]
  },
  {
   "cell_type": "code",
   "execution_count": 11,
   "metadata": {
    "collapsed": false
   },
   "outputs": [
    {
     "name": "stderr",
     "output_type": "stream",
     "text": [
      "Skipping line 112: expected 9 fields, saw 12\n",
      "Skipping line 113: expected 9 fields, saw 12\n",
      "Skipping line 190: expected 9 fields, saw 12\n",
      "Skipping line 191: expected 9 fields, saw 12\n",
      "Skipping line 567: expected 9 fields, saw 12\n",
      "Skipping line 568: expected 9 fields, saw 12\n",
      "Skipping line 693: expected 9 fields, saw 17\n",
      "Skipping line 694: expected 9 fields, saw 17\n",
      "Skipping line 695: expected 9 fields, saw 17\n",
      "Skipping line 696: expected 9 fields, saw 111\n",
      "Skipping line 697: expected 9 fields, saw 37\n",
      "Skipping line 698: expected 9 fields, saw 37\n",
      "Skipping line 700: expected 9 fields, saw 123\n",
      "Skipping line 701: expected 9 fields, saw 41\n",
      "Skipping line 702: expected 9 fields, saw 41\n",
      "Skipping line 703: expected 9 fields, saw 24\n",
      "\n"
     ]
    }
   ],
   "source": [
    "createbear_outputnew_newhour('From_conversion_website/2016-03-25-15-52-54.csv','BEAR/Mar25.csv')"
   ]
  },
  {
   "cell_type": "code",
   "execution_count": 52,
   "metadata": {
    "collapsed": false
   },
   "outputs": [
    {
     "name": "stderr",
     "output_type": "stream",
     "text": [
      "Skipping line 609: expected 9 fields, saw 12\n",
      "Skipping line 610: expected 9 fields, saw 12\n",
      "Skipping line 682: expected 9 fields, saw 17\n",
      "Skipping line 683: expected 9 fields, saw 17\n",
      "Skipping line 684: expected 9 fields, saw 17\n",
      "Skipping line 685: expected 9 fields, saw 111\n",
      "Skipping line 686: expected 9 fields, saw 37\n",
      "Skipping line 687: expected 9 fields, saw 37\n",
      "Skipping line 689: expected 9 fields, saw 123\n",
      "Skipping line 690: expected 9 fields, saw 41\n",
      "Skipping line 691: expected 9 fields, saw 41\n",
      "Skipping line 692: expected 9 fields, saw 24\n",
      "\n"
     ]
    }
   ],
   "source": [
    "createbear_outputnew('From_conversion_website/2016-03-28-16-15-05.csv','BEAR/Mar28.csv')"
   ]
  },
  {
   "cell_type": "code",
   "execution_count": 64,
   "metadata": {
    "collapsed": false
   },
   "outputs": [],
   "source": [
    "createbear_outputnew('From_conversion_website/2016-03-29-16-00-50.csv','BEAR/Mar29.csv')\n",
    "# No errors for unknown reason. I made the file from the previous day I think. Removed nans manually"
   ]
  },
  {
   "cell_type": "code",
   "execution_count": 65,
   "metadata": {
    "collapsed": false
   },
   "outputs": [
    {
     "name": "stderr",
     "output_type": "stream",
     "text": [
      "Skipping line 635: expected 9 fields, saw 12\n",
      "Skipping line 636: expected 9 fields, saw 12\n",
      "Skipping line 883: expected 9 fields, saw 17\n",
      "Skipping line 884: expected 9 fields, saw 17\n",
      "Skipping line 885: expected 9 fields, saw 17\n",
      "Skipping line 886: expected 9 fields, saw 111\n",
      "Skipping line 887: expected 9 fields, saw 37\n",
      "Skipping line 888: expected 9 fields, saw 37\n",
      "Skipping line 890: expected 9 fields, saw 123\n",
      "Skipping line 891: expected 9 fields, saw 41\n",
      "Skipping line 892: expected 9 fields, saw 41\n",
      "Skipping line 893: expected 9 fields, saw 24\n",
      "\n"
     ]
    }
   ],
   "source": [
    "createbear_outputnew('From_conversion_website/2016-03-30-16-20-52.csv','BEAR/Mar30.csv')"
   ]
  },
  {
   "cell_type": "code",
   "execution_count": 66,
   "metadata": {
    "collapsed": false
   },
   "outputs": [
    {
     "name": "stderr",
     "output_type": "stream",
     "text": [
      "Skipping line 539: expected 9 fields, saw 12\n",
      "Skipping line 540: expected 9 fields, saw 12\n",
      "Skipping line 604: expected 9 fields, saw 17\n",
      "Skipping line 605: expected 9 fields, saw 17\n",
      "Skipping line 606: expected 9 fields, saw 17\n",
      "Skipping line 607: expected 9 fields, saw 111\n",
      "Skipping line 608: expected 9 fields, saw 37\n",
      "Skipping line 609: expected 9 fields, saw 37\n",
      "Skipping line 611: expected 9 fields, saw 123\n",
      "Skipping line 612: expected 9 fields, saw 41\n",
      "Skipping line 613: expected 9 fields, saw 41\n",
      "Skipping line 614: expected 9 fields, saw 24\n",
      "\n"
     ]
    }
   ],
   "source": [
    "createbear_outputnew('From_conversion_website/2016-04-04-16-08-24.csv','BEAR/Apr4.csv')"
   ]
  },
  {
   "cell_type": "code",
   "execution_count": 67,
   "metadata": {
    "collapsed": false
   },
   "outputs": [
    {
     "name": "stderr",
     "output_type": "stream",
     "text": [
      "Skipping line 376: expected 9 fields, saw 12\n",
      "Skipping line 377: expected 9 fields, saw 12\n",
      "Skipping line 641: expected 9 fields, saw 12\n",
      "Skipping line 642: expected 9 fields, saw 12\n",
      "Skipping line 679: expected 9 fields, saw 17\n",
      "Skipping line 680: expected 9 fields, saw 17\n",
      "Skipping line 681: expected 9 fields, saw 17\n",
      "Skipping line 682: expected 9 fields, saw 111\n",
      "Skipping line 683: expected 9 fields, saw 37\n",
      "Skipping line 684: expected 9 fields, saw 37\n",
      "Skipping line 686: expected 9 fields, saw 123\n",
      "Skipping line 687: expected 9 fields, saw 41\n",
      "Skipping line 688: expected 9 fields, saw 41\n",
      "Skipping line 689: expected 9 fields, saw 24\n",
      "\n"
     ]
    }
   ],
   "source": [
    "createbear_outputnew('From_conversion_website/2016-04-05-16-24-36.csv','BEAR/Apr5.csv')"
   ]
  },
  {
   "cell_type": "code",
   "execution_count": 68,
   "metadata": {
    "collapsed": false
   },
   "outputs": [
    {
     "name": "stderr",
     "output_type": "stream",
     "text": [
      "Skipping line 555: expected 9 fields, saw 17\n",
      "Skipping line 556: expected 9 fields, saw 17\n",
      "Skipping line 557: expected 9 fields, saw 17\n",
      "Skipping line 558: expected 9 fields, saw 111\n",
      "Skipping line 559: expected 9 fields, saw 37\n",
      "Skipping line 560: expected 9 fields, saw 37\n",
      "Skipping line 562: expected 9 fields, saw 123\n",
      "Skipping line 563: expected 9 fields, saw 41\n",
      "Skipping line 564: expected 9 fields, saw 41\n",
      "Skipping line 565: expected 9 fields, saw 24\n",
      "\n"
     ]
    }
   ],
   "source": [
    "createbear_outputnew('From_conversion_website/2016-04-06-16-14-30.csv','BEAR/Apr6.csv')"
   ]
  },
  {
   "cell_type": "code",
   "execution_count": 69,
   "metadata": {
    "collapsed": false
   },
   "outputs": [
    {
     "name": "stderr",
     "output_type": "stream",
     "text": [
      "Skipping line 803: expected 9 fields, saw 17\n",
      "Skipping line 804: expected 9 fields, saw 17\n",
      "Skipping line 805: expected 9 fields, saw 17\n",
      "Skipping line 806: expected 9 fields, saw 111\n",
      "Skipping line 807: expected 9 fields, saw 37\n",
      "Skipping line 808: expected 9 fields, saw 37\n",
      "Skipping line 810: expected 9 fields, saw 123\n",
      "Skipping line 811: expected 9 fields, saw 41\n",
      "Skipping line 812: expected 9 fields, saw 41\n",
      "Skipping line 813: expected 9 fields, saw 24\n",
      "\n"
     ]
    }
   ],
   "source": [
    "createbear_outputnew('From_conversion_website/2016-04-07-16-31-39.csv','BEAR/Apr7.csv')"
   ]
  },
  {
   "cell_type": "code",
   "execution_count": 70,
   "metadata": {
    "collapsed": false
   },
   "outputs": [
    {
     "name": "stderr",
     "output_type": "stream",
     "text": [
      "Skipping line 487: expected 9 fields, saw 12\n",
      "Skipping line 488: expected 9 fields, saw 12\n",
      "Skipping line 557: expected 9 fields, saw 17\n",
      "Skipping line 558: expected 9 fields, saw 17\n",
      "Skipping line 559: expected 9 fields, saw 17\n",
      "Skipping line 560: expected 9 fields, saw 111\n",
      "Skipping line 561: expected 9 fields, saw 37\n",
      "Skipping line 562: expected 9 fields, saw 37\n",
      "Skipping line 564: expected 9 fields, saw 123\n",
      "Skipping line 565: expected 9 fields, saw 41\n",
      "Skipping line 566: expected 9 fields, saw 41\n",
      "Skipping line 567: expected 9 fields, saw 24\n",
      "\n"
     ]
    }
   ],
   "source": [
    "createbear_outputnew('From_conversion_website/2016-04-13-16-10-26.csv','BEAR/Apr13.csv')"
   ]
  },
  {
   "cell_type": "code",
   "execution_count": 71,
   "metadata": {
    "collapsed": false
   },
   "outputs": [
    {
     "name": "stderr",
     "output_type": "stream",
     "text": [
      "Skipping line 181: expected 9 fields, saw 12\n",
      "Skipping line 182: expected 9 fields, saw 12\n",
      "Skipping line 587: expected 9 fields, saw 17\n",
      "Skipping line 588: expected 9 fields, saw 17\n",
      "Skipping line 589: expected 9 fields, saw 17\n",
      "Skipping line 590: expected 9 fields, saw 111\n",
      "Skipping line 591: expected 9 fields, saw 37\n",
      "Skipping line 592: expected 9 fields, saw 37\n",
      "Skipping line 594: expected 9 fields, saw 123\n",
      "Skipping line 595: expected 9 fields, saw 41\n",
      "Skipping line 596: expected 9 fields, saw 41\n",
      "Skipping line 597: expected 9 fields, saw 24\n",
      "\n"
     ]
    }
   ],
   "source": [
    "createbear_outputnew('From_conversion_website/2016-04-14-16-14-11.csv','BEAR/Apr14.csv')"
   ]
  },
  {
   "cell_type": "code",
   "execution_count": 72,
   "metadata": {
    "collapsed": false
   },
   "outputs": [
    {
     "name": "stderr",
     "output_type": "stream",
     "text": [
      "Skipping line 609: expected 9 fields, saw 17\n",
      "Skipping line 610: expected 9 fields, saw 17\n",
      "Skipping line 611: expected 9 fields, saw 17\n",
      "Skipping line 612: expected 9 fields, saw 111\n",
      "Skipping line 613: expected 9 fields, saw 37\n",
      "Skipping line 614: expected 9 fields, saw 37\n",
      "Skipping line 616: expected 9 fields, saw 123\n",
      "Skipping line 617: expected 9 fields, saw 41\n",
      "Skipping line 618: expected 9 fields, saw 41\n",
      "Skipping line 619: expected 9 fields, saw 24\n",
      "\n"
     ]
    }
   ],
   "source": [
    "createbear_outputnew('From_conversion_website/2016-04-15-15-56-50.csv','BEAR/Apr15.csv')"
   ]
  },
  {
   "cell_type": "code",
   "execution_count": 80,
   "metadata": {
    "collapsed": false
   },
   "outputs": [],
   "source": [
    "createbear_outputnew('From_conversion_website/2016-04-27-16-15-54.csv','BEAR/Apr27.csv')\n",
    "# JUST LIKE MAR29, MUST REMOVE nans IF RUN THIS AGAIN. Manually edited file"
   ]
  },
  {
   "cell_type": "code",
   "execution_count": 83,
   "metadata": {
    "collapsed": false
   },
   "outputs": [],
   "source": [
    "createbear_outputnew('From_conversion_website/2016-04-28-16-09-34.csv','BEAR/Apr28.csv')\n",
    "# JUST LIKE MAR29, MUST REMOVE nans IF RUN THIS AGAIN. Manually edited file"
   ]
  },
  {
   "cell_type": "code",
   "execution_count": 84,
   "metadata": {
    "collapsed": false
   },
   "outputs": [
    {
     "name": "stderr",
     "output_type": "stream",
     "text": [
      "Skipping line 222: expected 9 fields, saw 12\n",
      "Skipping line 223: expected 9 fields, saw 12\n",
      "Skipping line 962: expected 9 fields, saw 17\n",
      "Skipping line 963: expected 9 fields, saw 17\n",
      "Skipping line 964: expected 9 fields, saw 17\n",
      "Skipping line 965: expected 9 fields, saw 111\n",
      "Skipping line 966: expected 9 fields, saw 37\n",
      "Skipping line 967: expected 9 fields, saw 37\n",
      "Skipping line 969: expected 9 fields, saw 123\n",
      "Skipping line 970: expected 9 fields, saw 41\n",
      "Skipping line 971: expected 9 fields, saw 41\n",
      "Skipping line 972: expected 9 fields, saw 24\n",
      "\n"
     ]
    }
   ],
   "source": [
    "createbear_outputnew('From_conversion_website/2016-04-29-15-59-06.csv','BEAR/Apr29.csv')"
   ]
  },
  {
   "cell_type": "code",
   "execution_count": 85,
   "metadata": {
    "collapsed": false
   },
   "outputs": [
    {
     "name": "stderr",
     "output_type": "stream",
     "text": [
      "Skipping line 350: expected 9 fields, saw 12\n",
      "Skipping line 351: expected 9 fields, saw 12\n",
      "Skipping line 612: expected 9 fields, saw 17\n",
      "Skipping line 613: expected 9 fields, saw 17\n",
      "Skipping line 614: expected 9 fields, saw 17\n",
      "Skipping line 615: expected 9 fields, saw 111\n",
      "Skipping line 616: expected 9 fields, saw 37\n",
      "Skipping line 617: expected 9 fields, saw 37\n",
      "Skipping line 619: expected 9 fields, saw 123\n",
      "Skipping line 620: expected 9 fields, saw 41\n",
      "Skipping line 621: expected 9 fields, saw 41\n",
      "Skipping line 622: expected 9 fields, saw 24\n",
      "\n"
     ]
    }
   ],
   "source": [
    "createbear_outputnew('From_conversion_website/2016-05-05-15-57-04.csv','BEAR/May5.csv')"
   ]
  },
  {
   "cell_type": "code",
   "execution_count": 86,
   "metadata": {
    "collapsed": false
   },
   "outputs": [
    {
     "name": "stderr",
     "output_type": "stream",
     "text": [
      "Skipping line 387: expected 9 fields, saw 12\n",
      "Skipping line 388: expected 9 fields, saw 12\n",
      "Skipping line 997: expected 9 fields, saw 17\n",
      "Skipping line 998: expected 9 fields, saw 17\n",
      "Skipping line 999: expected 9 fields, saw 17\n",
      "Skipping line 1000: expected 9 fields, saw 111\n",
      "Skipping line 1001: expected 9 fields, saw 37\n",
      "Skipping line 1002: expected 9 fields, saw 37\n",
      "Skipping line 1004: expected 9 fields, saw 123\n",
      "Skipping line 1005: expected 9 fields, saw 41\n",
      "Skipping line 1006: expected 9 fields, saw 41\n",
      "Skipping line 1007: expected 9 fields, saw 24\n",
      "\n"
     ]
    }
   ],
   "source": [
    "createbear_outputnew('From_conversion_website/2016-05-06-15-56-36.csv','BEAR/May6.csv')"
   ]
  },
  {
   "cell_type": "code",
   "execution_count": null,
   "metadata": {
    "collapsed": true
   },
   "outputs": [],
   "source": []
  }
 ],
 "metadata": {
  "kernelspec": {
   "display_name": "Python 2",
   "language": "python",
   "name": "python2"
  },
  "language_info": {
   "codemirror_mode": {
    "name": "ipython",
    "version": 2
   },
   "file_extension": ".py",
   "mimetype": "text/x-python",
   "name": "python",
   "nbconvert_exporter": "python",
   "pygments_lexer": "ipython2",
   "version": "2.7.10"
  }
 },
 "nbformat": 4,
 "nbformat_minor": 0
}
