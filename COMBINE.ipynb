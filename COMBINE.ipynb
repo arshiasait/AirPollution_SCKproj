{
 "cells": [
  {
   "cell_type": "code",
   "execution_count": 35,
   "metadata": {
    "collapsed": true
   },
   "outputs": [],
   "source": [
    "import pandas as pd\n",
    "import numpy as np\n",
    "from datetime import datetime as dt\n",
    "import datetime\n",
    "import csv\n",
    "from scipy import signal"
   ]
  },
  {
   "cell_type": "code",
   "execution_count": 36,
   "metadata": {
    "collapsed": true
   },
   "outputs": [],
   "source": [
    "get_datetime = lambda s: datetime.datetime.strptime(s, \"%Y-%m-%d %H:%M:%S\")\n",
    "def string_to_dt(time):\n",
    "    '''\n",
    "    This converts an input array of strings to a list of .datetimes\n",
    "    '''\n",
    "    dt = []\n",
    "    for index,item in enumerate(time):\n",
    "        dt = np.append(get_datetime(item),dt)\n",
    "    dt=dt[::-1]\n",
    "    return dt\n",
    "\n",
    "def nearestDate(dates,pivot,length):\n",
    "    '''\n",
    "    This function inputs two sets of datetime lists. \n",
    "    The PIVOT and LENGTH belong to the list that have the desired base and length.\n",
    "    Returns a array of strings from DATES that are closest to PIVOT matching the length of PIVOT\n",
    "    '''\n",
    "    match = []\n",
    "    for i in range(0,length):\n",
    "        closest = min(dates, key=lambda x: abs(x - pivot[i]))\n",
    "        match = np.append(str(closest),match)\n",
    "    return match[::-1]\n",
    "\n",
    "def get_indecies(old_time,new_time):\n",
    "    '''\n",
    "    Function compares adjusted time arrays and outputs the indecies that match.\n",
    "    These indicies are used to match the other variables to the compared times.\n",
    "    '''\n",
    "    indemic = []\n",
    "    for i in range(0,len(old_time)):\n",
    "        pal = get_datetime(old_time[i])\n",
    "        for j in range(0,len(new_time)):\n",
    "            gal = get_datetime(new_time[j])\n",
    "            if pal == gal:\n",
    "                indemic = np.append(i,indemic)\n",
    "            else:\n",
    "                pass\n",
    "    return indemic[::-1]\n",
    "\n",
    "def relative_velocity(FS_WD,FS_WS,bearing,speed):\n",
    "    '''\n",
    "    Calculates relative velocities from arrays of wind direction, wind speed, \n",
    "    activity direction, and activity speed. Outputs relative velocity, \n",
    "    as well as u and v components of the corresponding wind and activity vectors.\n",
    "    '''\n",
    "    \n",
    "    Wind_Dir = np.array(FS_WD) # degrees\n",
    "    Wind_Spd = np.array(FS_WS)*(1609.34/3600) # conversion to m/s\n",
    "    Act_Dir = np.array(bearing) # degrees\n",
    "    Act_Spd = np.array(speed) #m/s\n",
    "    \n",
    "    rad_wind = (Wind_Dir-180)*(np.pi/180) # subtract 180 b/c reported direction is where wind is coming FROM\n",
    "    rad_act = (Act_Dir)*(np.pi/180) # direction of activity\n",
    "    u1 = Wind_Spd*np.sin(rad_wind)\n",
    "    v1 = Wind_Spd*np.cos(rad_wind)\n",
    "    u2 = Act_Spd*np.sin(rad_act)\n",
    "    v2 = Act_Spd*np.cos(rad_act)\n",
    "    vect1 = np.sqrt(u1**2+u2**2)\n",
    "    vect2 = np.sqrt(v1**2+v2**2)\n",
    "    alpha = []\n",
    "    for i in range(0,len(Wind_Spd)):\n",
    "        angle = np.arccos(((u1[i]*v1[i])+(u2[i]*v2[i])) / (vect1[i]*vect2[i]))\n",
    "        alpha = np.append(angle,alpha)\n",
    "    alpha = alpha[::-1]\n",
    "    v_r = np.sqrt(Wind_Spd**2+Act_Spd**2 - (2*Wind_Spd*Act_Spd*np.cos(np.pi+alpha)))\n",
    "    return v_r,u1,v1,u2,v2"
   ]
  },
  {
   "cell_type": "code",
   "execution_count": 37,
   "metadata": {
    "collapsed": true
   },
   "outputs": [],
   "source": [
    "def combine_all(gps_file,sck1_file,sck2_file,sck3_file,fs_file,output_file):\n",
    "    '''\n",
    "    This function inputs the data from the gps, the three scks, and the fs wx station\n",
    "    and combines them into a new file with the times of the scks and fs nearest\n",
    "    to each gps time. The outputed file will have all data nearest to each recored\n",
    "    gps position so that it may be plotted using GIS. \n",
    "    '''\n",
    "    # reading in files\n",
    "    gps = pd.read_csv(gps_file)\n",
    "    sck1 = pd.read_csv(sck1_file)\n",
    "    sck2 = pd.read_csv(sck2_file)\n",
    "    sck3 = pd.read_csv(sck3_file)\n",
    "    fs = pd.read_csv(fs_file)\n",
    "    print 'Files read'\n",
    "    \n",
    "    # gathering times from files\n",
    "    gpstime = gps['GPStime']\n",
    "    sck1time = sck1['SCK1time']\n",
    "    sck2time = sck2['SCK2time']\n",
    "    sck3time = sck3['SCK3time']\n",
    "    fstime = fs['FStime']\n",
    "    \n",
    "    # converting strings to datetimes\n",
    "    gps_dt = string_to_dt(gpstime)\n",
    "    sck1_dt = string_to_dt(sck1time)\n",
    "    sck2_dt = string_to_dt(sck2time)\n",
    "    sck3_dt = string_to_dt(sck3time)\n",
    "    fs_dt = string_to_dt(fstime)\n",
    "    \n",
    "    # finding the new times matching the gps\n",
    "    sck1_new = nearestDate(sck1_dt,gps_dt,len(gpstime))\n",
    "    sck2_new = nearestDate(sck2_dt,gps_dt,len(gpstime))\n",
    "    sck3_new = nearestDate(sck3_dt,gps_dt,len(gpstime))\n",
    "    fs_new = nearestDate(fs_dt,gps_dt,len(gpstime))\n",
    "    print 'Times matched'\n",
    "    \n",
    "    # gathering the indecies used in nearestDate\n",
    "    i_sck1 = get_indecies(sck1time,sck1_new)\n",
    "    i_sck2 = get_indecies(sck2time,sck2_new)\n",
    "    i_sck3 = get_indecies(sck3time,sck3_new)\n",
    "    i_fs = get_indecies(fstime,fs_new)\n",
    "    \n",
    "    #calculating relative velocity\n",
    "    v_r,uwind,vwind,uact,vact = relative_velocity(fs['FS_WD'][i_fs],fs['FS_WS'][i_fs],\n",
    "                                                  gps['bearing(deg)'],gps['speed(m/s)'])\n",
    "    print 'Calculated relative velocity'\n",
    "    \n",
    "    # detrending the NO2 data (if statements fill dummy dates with zeros)   \n",
    "    if np.isnan(list(sck1['SCK1_NO2'][i_sck1])[0]) == False:\n",
    "        sck1_no2_d = signal.detrend(sck1['SCK1_NO2'][i_sck1])+np.mean(sck1['SCK1_NO2'][i_sck1])\n",
    "    else:\n",
    "        sck1_no2_d = np.zeros_like(sck1['SCK1_NO2'][i_sck1])\n",
    "    if np.isnan(list(sck2['SCK2_NO2'][i_sck2])[0]) == False:\n",
    "        sck2_no2_d = signal.detrend(sck2['SCK2_NO2'][i_sck2])+np.mean(sck2['SCK2_NO2'][i_sck2])\n",
    "    else:\n",
    "        sck2_no2_d = np.zeros_like(sck2['SCK2_NO2'][i_sck2])\n",
    "    if np.isnan(list(sck3['SCK3_NO2'][i_sck3])[0]) == False:\n",
    "        sck3_no2_d = signal.detrend(sck3['SCK3_NO2'][i_sck3])+np.mean(sck3['SCK3_NO2'][i_sck3])\n",
    "    else:\n",
    "        sck3_no2_d = np.zeros_like(sck3['SCK3_NO2'][i_sck3])\n",
    "    print 'Detrended NO2'\n",
    "    \n",
    "    # write to columns in .csv\n",
    "    rows = zip(gpstime,sck1_new,sck2_new,sck3_new,fs_new, # time columns\n",
    "               \n",
    "               gps['lat(DD)'],gps['lon(DD)'],gps['bearing(deg)'],gps['speed(m/s)'],gps['distance(m)'], #gps columns\n",
    "               \n",
    "               sck1['SCK1_CO'][i_sck1],sck1['SCK1_NO2'][i_sck1],sck1_no2_d,sck1['SCK1_TC'][i_sck1], # sck1 columns\n",
    "               sck1['SCK1_RH'][i_sck1],sck1['SCK1_LX'][i_sck1],sck1['SCK1_DB'][i_sck1],\n",
    "               \n",
    "               sck2['SCK2_CO'][i_sck2],sck2['SCK2_NO2'][i_sck2],sck2_no2_d,sck2['SCK2_TC'][i_sck2], # sck3 columns\n",
    "               sck2['SCK2_RH'][i_sck2],sck2['SCK2_LX'][i_sck2],sck2['SCK2_DB'][i_sck2],\n",
    "\n",
    "               sck3['SCK3_CO'][i_sck3],sck3['SCK3_NO2'][i_sck3],sck3_no2_d,sck3['SCK3_TC'][i_sck3], # sck3 columns\n",
    "               sck3['SCK3_RH'][i_sck3],sck3['SCK3_LX'][i_sck3],sck3['SCK3_DB'][i_sck3],\n",
    "               \n",
    "               fs['FS_TF'][i_fs],fs['FS_RH'][i_fs],fs['FS_WS'][i_fs], # fs columns\n",
    "               fs['FS_WD'][i_fs],fs['FS_UP'][i_fs],fs['FS_DN'][i_fs],\n",
    "              \n",
    "               v_r, uwind, vwind, uact, vact) # calculated columns\n",
    "\n",
    "    with open(output_file, 'wb') as f:\n",
    "        writer = csv.writer(f)\n",
    "        writer.writerow(['GPStime','SCK1time','SCK2time','SCK3time','FStime',\n",
    "                         'lat(DD)','lon(DD)','bearing(deg)','speed(m/s)','distance(m)',\n",
    "                         'SCK1_CO','SCK1_NO2','SCK1_NO2_det','SCK1_TC','SCK1_RH','SCK1_LX','SCK1_DB',\n",
    "                         'SCK2_CO','SCK2_NO2','SCK2_NO2_det','SCK2_TC','SCK2_RH','SCK2_LX','SCK2_DB',\n",
    "                         'SCK3_CO','SCK3_NO2','SCK3_NO2_det','SCK3_TC','SCK3_RH','SCK3_LX','SCK3_DB',\n",
    "                         'FS_TF','FS_RH','FS_WS','FS_WD','FS_UP','FS_DN',\n",
    "                         'V_r','uwind','vwind','uact','vact'])\n",
    "        for i in rows:\n",
    "            writer.writerow(i) \n",
    "    print 'Done writing file'"
   ]
  },
  {
   "cell_type": "code",
   "execution_count": 38,
   "metadata": {
    "collapsed": false
   },
   "outputs": [],
   "source": [
    "def combine_one(gps_file,sck1_file,fs_file,output_file):\n",
    "    '''\n",
    "    This function inputs the data from the gps, one sck, and the fs wx station\n",
    "    and combines them into a new file with the times of the scks and fs nearest\n",
    "    to each gps time. The outputed file will have all data nearest to each recored\n",
    "    gps position so that it may be plotted using GIS. \n",
    "    '''\n",
    "    # reading in files\n",
    "    gps = pd.read_csv(gps_file)\n",
    "    sck1 = pd.read_csv(sck1_file)\n",
    "    fs = pd.read_csv(fs_file)\n",
    "    print 'Files read'\n",
    "    \n",
    "    # gathering times from files\n",
    "    gpstime = gps['GPStime']\n",
    "    sck1time = sck1['SCK1time']\n",
    "    fstime = fs['FStime']\n",
    "    \n",
    "    # converting strings to datetimes\n",
    "    gps_dt = string_to_dt(gpstime)\n",
    "    sck1_dt = string_to_dt(sck1time)\n",
    "    fs_dt = string_to_dt(fstime)\n",
    "    \n",
    "    # finding the new times matching the gps\n",
    "    sck1_new = nearestDate(sck1_dt,gps_dt,len(gpstime))\n",
    "    fs_new = nearestDate(fs_dt,gps_dt,len(gpstime))\n",
    "    print 'Times matched'\n",
    "    \n",
    "    # gathering the indecies used in nearestDate\n",
    "    i_sck1 = get_indecies(sck1time,sck1_new)\n",
    "    i_fs = get_indecies(fstime,fs_new)\n",
    "    \n",
    "    #calculating relative velocity\n",
    "    v_r,uwind,vwind,uact,vact = relative_velocity(fs['FS_WD'][i_fs],fs['FS_WS'][i_fs],\n",
    "                                                  gps['bearing(deg)'],gps['speed(m/s)'])\n",
    "    print 'Calculated relative velocity'\n",
    "    \n",
    "    # detrending the NO2 data\n",
    "    sck1_no2_d = signal.detrend(sck1['SCK1_NO2'][i_sck1])+np.mean(sck1['SCK1_NO2'][i_sck1])\n",
    "    print 'Detrended NO2'\n",
    "    \n",
    "    # write to columns in .csv\n",
    "    rows = zip(gpstime,sck1_new,fs_new, # time columns\n",
    "               \n",
    "               gps['lat(DD)'],gps['lon(DD)'],gps['bearing(deg)'], #gps columns\n",
    "               gps['speed(m/s)'],gps['distance(m)'], \n",
    "               \n",
    "               sck1['SCK1_CO'][i_sck1],sck1['SCK1_NO2'][i_sck1],sck1_no2_d,sck1['SCK1_TC'][i_sck1], # sck1 columns\n",
    "               sck1['SCK1_RH'][i_sck1],sck1['SCK1_LX'][i_sck1],sck1['SCK1_DB'][i_sck1],\n",
    "               \n",
    "               fs['FS_TF'][i_fs],fs['FS_RH'][i_fs],fs['FS_WS'][i_fs], # fs columns\n",
    "               fs['FS_WD'][i_fs],fs['FS_UP'][i_fs],fs['FS_DN'][i_fs],\n",
    "    \n",
    "               v_r, uwind, vwind, uact, vact) # calculated columns\n",
    "\n",
    "    with open(output_file, 'wb') as f:\n",
    "        writer = csv.writer(f)\n",
    "        writer.writerow(['GPStime','SCK1time','FStime',\n",
    "                         'lat(DD)','lon(DD)','bearing(deg)','speed(m/s)','distance(m)',\n",
    "                         'SCK1_CO','SCK1_NO2','SCK1_NO2_det','SCK1_TC','SCK1_RH','SCK1_LX','SCK1_DB',\n",
    "                         'FS_TF','FS_RH','FS_WS','FS_WD','FS_UP','FS_DN',\n",
    "                         'V_r','uwind','vwind','uact','vact'])\n",
    "        for i in rows:\n",
    "            writer.writerow(i)\n",
    "    print 'Done writing file'"
   ]
  },
  {
   "cell_type": "code",
   "execution_count": 39,
   "metadata": {
    "collapsed": false
   },
   "outputs": [
    {
     "name": "stdout",
     "output_type": "stream",
     "text": [
      "Files read\n",
      "Times matched\n",
      "Calculated relative velocity\n",
      "Detrended NO2\n",
      "Done writing file\n"
     ]
    }
   ],
   "source": [
    "combine_one('GPS_rides/BEAR/Oct2.csv',\n",
    "            'SCK_rides/RO/Oct2_SCK1_RO.csv',\n",
    "            'FS_data/Resamples/Oct2.csv',\n",
    "            'Combined/Oct2.csv')"
   ]
  },
  {
   "cell_type": "code",
   "execution_count": 40,
   "metadata": {
    "collapsed": false
   },
   "outputs": [
    {
     "name": "stdout",
     "output_type": "stream",
     "text": [
      "Files read\n",
      "Times matched\n",
      "Calculated relative velocity\n",
      "Detrended NO2\n",
      "Done writing file\n"
     ]
    }
   ],
   "source": [
    "combine_one('GPS_rides/BEAR/Oct14.csv',\n",
    "            'SCK_rides/RO/Oct14_SCK1_RO.csv',\n",
    "            'FS_data/Resamples/Oct14.csv',\n",
    "            'Combined/Oct14.csv')"
   ]
  },
  {
   "cell_type": "code",
   "execution_count": 41,
   "metadata": {
    "collapsed": false
   },
   "outputs": [
    {
     "name": "stdout",
     "output_type": "stream",
     "text": [
      "Files read\n",
      "Times matched\n",
      "Calculated relative velocity\n",
      "Detrended NO2\n",
      "Done writing file\n"
     ]
    }
   ],
   "source": [
    "combine_one('GPS_rides/BEAR/Nov2.csv',\n",
    "            'SCK_rides/RO/Nov2_SCK1_RO.csv',\n",
    "            'FS_data/Resamples/Nov2.csv',\n",
    "            'Combined/Nov2.csv')"
   ]
  },
  {
   "cell_type": "code",
   "execution_count": 42,
   "metadata": {
    "collapsed": false
   },
   "outputs": [
    {
     "name": "stdout",
     "output_type": "stream",
     "text": [
      "Files read\n",
      "Times matched\n",
      "Calculated relative velocity\n",
      "Detrended NO2\n",
      "Done writing file\n"
     ]
    }
   ],
   "source": [
    "combine_one('GPS_rides/BEAR/Nov3.csv',\n",
    "            'SCK_rides/RO/Nov3_SCK1_RO.csv',\n",
    "            'FS_data/Resamples/Nov3.csv',\n",
    "            'Combined/Nov3.csv')"
   ]
  },
  {
   "cell_type": "code",
   "execution_count": 43,
   "metadata": {
    "collapsed": false
   },
   "outputs": [
    {
     "name": "stdout",
     "output_type": "stream",
     "text": [
      "Files read\n",
      "Times matched\n",
      "Calculated relative velocity\n",
      "Detrended NO2\n",
      "Done writing file\n"
     ]
    }
   ],
   "source": [
    "combine_one('GPS_rides/BEAR/Nov4.csv',\n",
    "            'SCK_rides/RO/Nov4_SCK1_RO.csv',\n",
    "            'FS_data/Resamples/Nov4.csv',\n",
    "            'Combined/Nov4.csv')"
   ]
  },
  {
   "cell_type": "code",
   "execution_count": 44,
   "metadata": {
    "collapsed": false
   },
   "outputs": [
    {
     "name": "stdout",
     "output_type": "stream",
     "text": [
      "Files read\n",
      "Times matched\n",
      "Calculated relative velocity\n",
      "Detrended NO2\n",
      "Done writing file\n"
     ]
    }
   ],
   "source": [
    "combine_one('GPS_rides/BEAR/Nov10.csv',\n",
    "            'SCK_rides/RO/Nov10_SCK1_RO.csv',\n",
    "            'FS_data/Resamples/Nov10.csv',\n",
    "            'Combined/Nov10.csv')"
   ]
  },
  {
   "cell_type": "code",
   "execution_count": 45,
   "metadata": {
    "collapsed": false
   },
   "outputs": [
    {
     "name": "stdout",
     "output_type": "stream",
     "text": [
      "Files read\n",
      "Times matched\n",
      "Calculated relative velocity\n",
      "Detrended NO2\n",
      "Done writing file\n"
     ]
    }
   ],
   "source": [
    "combine_one('GPS_rides/BEAR/Feb19.csv',\n",
    "            'SCK_rides/RO/Feb19_SCK1_RO.csv',\n",
    "            'FS_data/Resamples/Feb19.csv',\n",
    "            'Combined/Feb19.csv')"
   ]
  },
  {
   "cell_type": "code",
   "execution_count": 46,
   "metadata": {
    "collapsed": false
   },
   "outputs": [
    {
     "name": "stdout",
     "output_type": "stream",
     "text": [
      "Files read\n",
      "Times matched\n",
      "Calculated relative velocity\n",
      "Detrended NO2\n",
      "Done writing file\n"
     ]
    }
   ],
   "source": [
    "combine_one('GPS_rides/BEAR/Feb20.csv',\n",
    "            'SCK_rides/RO/Feb20_SCK1_RO.csv',\n",
    "            'FS_data/Resamples/Feb20.csv',\n",
    "            'Combined/Feb20.csv')"
   ]
  },
  {
   "cell_type": "code",
   "execution_count": 47,
   "metadata": {
    "collapsed": false
   },
   "outputs": [
    {
     "name": "stdout",
     "output_type": "stream",
     "text": [
      "Files read\n",
      "Times matched\n",
      "Calculated relative velocity\n",
      "Detrended NO2\n",
      "Done writing file\n"
     ]
    }
   ],
   "source": [
    "combine_all('GPS_rides/BEAR/Mar2.csv',\n",
    "        'SCK_rides/RO/Mar2_SCK1_RO.csv',\n",
    "        'SCK_rides/RO/Mar2_SCK2_RO.csv',\n",
    "        'SCK_rides/RO/Mar2_SCK3_RO.csv',\n",
    "        'FS_data/Resamples/Mar2.csv',\n",
    "        'Combined/Mar2.csv')"
   ]
  },
  {
   "cell_type": "code",
   "execution_count": 48,
   "metadata": {
    "collapsed": false
   },
   "outputs": [
    {
     "name": "stdout",
     "output_type": "stream",
     "text": [
      "Files read\n",
      "Times matched\n",
      "Calculated relative velocity\n",
      "Detrended NO2\n",
      "Done writing file\n"
     ]
    }
   ],
   "source": [
    "combine_all('GPS_rides/BEAR/Mar4.csv',\n",
    "        'SCK_rides/RO/Mar4_SCK1_RO.csv',\n",
    "        'SCK_rides/RO/Mar4_SCK2_RO.csv',\n",
    "        'SCK_rides/RO/Mar4_SCK3_RO.csv',\n",
    "        'FS_data/Resamples/Mar4.csv',\n",
    "        'Combined/Mar4.csv')"
   ]
  },
  {
   "cell_type": "code",
   "execution_count": 49,
   "metadata": {
    "collapsed": false
   },
   "outputs": [
    {
     "name": "stdout",
     "output_type": "stream",
     "text": [
      "Files read\n",
      "Times matched\n",
      "Calculated relative velocity\n",
      "Detrended NO2\n",
      "Done writing file\n"
     ]
    }
   ],
   "source": [
    "combine_all('GPS_rides/BEAR/Mar7.csv',\n",
    "        'SCK_rides/RO/Mar7_SCK1_RO.csv',\n",
    "        'SCK_rides/RO/Mar7_SCK2_RO.csv',\n",
    "        'SCK_rides/RO/Mar7_SCK3_RO.csv',\n",
    "        'FS_data/Resamples/Mar7.csv',\n",
    "        'Combined/Mar7.csv')"
   ]
  },
  {
   "cell_type": "code",
   "execution_count": 50,
   "metadata": {
    "collapsed": false
   },
   "outputs": [
    {
     "name": "stdout",
     "output_type": "stream",
     "text": [
      "Files read\n",
      "Times matched\n",
      "Calculated relative velocity\n",
      "Detrended NO2\n",
      "Done writing file\n"
     ]
    }
   ],
   "source": [
    "combine_all('GPS_rides/BEAR/Mar14.csv',\n",
    "        'SCK_rides/RO/Mar14_SCK1_RO.csv',\n",
    "        'SCK_rides/RO/Mar14_SCK2_RO.csv',\n",
    "        'SCK_rides/RO/Mar14_SCK3_RO.csv',\n",
    "        'FS_data/Resamples/Mar14.csv',\n",
    "        'Combined/Mar14.csv')"
   ]
  },
  {
   "cell_type": "code",
   "execution_count": 51,
   "metadata": {
    "collapsed": false
   },
   "outputs": [
    {
     "name": "stdout",
     "output_type": "stream",
     "text": [
      "Files read\n",
      "Times matched\n",
      "Calculated relative velocity\n",
      "Detrended NO2\n",
      "Done writing file\n"
     ]
    }
   ],
   "source": [
    "combine_all('GPS_rides/BEAR/Mar21.csv',\n",
    "        'SCK_rides/RO/Mar21_SCK1_RO.csv',\n",
    "        'SCK_rides/RO/Mar21_SCK2_RO.csv',\n",
    "        'SCK_rides/RO/Mar21_SCK3_RO.csv',\n",
    "        'FS_data/Resamples/Mar21.csv',\n",
    "        'Combined/Mar21.csv')"
   ]
  },
  {
   "cell_type": "code",
   "execution_count": 52,
   "metadata": {
    "collapsed": false
   },
   "outputs": [
    {
     "name": "stdout",
     "output_type": "stream",
     "text": [
      "Files read\n",
      "Times matched\n",
      "Calculated relative velocity\n",
      "Detrended NO2\n",
      "Done writing file\n"
     ]
    }
   ],
   "source": [
    "combine_all('GPS_rides/BEAR/Mar22.csv',\n",
    "        'SCK_rides/RO/Mar22_SCK1_RO.csv',\n",
    "        'SCK_rides/RO/Mar22_SCK2_RO.csv',\n",
    "        'SCK_rides/RO/Mar22_SCK3_RO.csv',\n",
    "        'FS_data/Resamples/Mar22.csv',\n",
    "        'Combined/Mar22.csv')"
   ]
  },
  {
   "cell_type": "code",
   "execution_count": 53,
   "metadata": {
    "collapsed": false
   },
   "outputs": [
    {
     "name": "stdout",
     "output_type": "stream",
     "text": [
      "Files read\n",
      "Times matched\n",
      "Calculated relative velocity\n",
      "Detrended NO2\n",
      "Done writing file\n"
     ]
    }
   ],
   "source": [
    "combine_all('GPS_rides/BEAR/Mar25.csv',\n",
    "        'SCK_rides/RO/Mar25_SCK1_RO.csv',\n",
    "        'SCK_rides/RO/Mar25_SCK2_RO.csv',\n",
    "        'SCK_rides/RO/Mar25_SCK3_RO.csv',\n",
    "        'FS_data/Resamples/Mar25.csv',\n",
    "        'Combined/Mar25.csv')"
   ]
  },
  {
   "cell_type": "code",
   "execution_count": 54,
   "metadata": {
    "collapsed": false
   },
   "outputs": [
    {
     "name": "stdout",
     "output_type": "stream",
     "text": [
      "Files read\n",
      "Times matched\n",
      "Calculated relative velocity\n",
      "Detrended NO2\n",
      "Done writing file\n"
     ]
    }
   ],
   "source": [
    "combine_all('GPS_rides/BEAR/Mar28.csv',\n",
    "        'SCK_rides/RO/Mar28_SCK1_RO.csv',\n",
    "        'SCK_rides/RO/Mar28_SCK2_RO.csv',\n",
    "        'SCK_rides/RO/Mar28_SCK3_RO.csv',\n",
    "        'FS_data/Resamples/Mar28.csv',\n",
    "        'Combined/Mar28.csv')"
   ]
  },
  {
   "cell_type": "code",
   "execution_count": 55,
   "metadata": {
    "collapsed": false
   },
   "outputs": [
    {
     "name": "stdout",
     "output_type": "stream",
     "text": [
      "Files read\n",
      "Times matched\n",
      "Calculated relative velocity\n",
      "Detrended NO2\n",
      "Done writing file\n"
     ]
    }
   ],
   "source": [
    "combine_all('GPS_rides/BEAR/Mar29.csv',\n",
    "        'SCK_rides/RO/Mar29_SCK1_RO.csv',\n",
    "        'SCK_rides/RO/Mar29_SCK2_RO.csv',\n",
    "        'SCK_rides/RO/Mar29_SCK3_RO.csv',\n",
    "        'FS_data/Resamples/Mar29.csv',\n",
    "        'Combined/Mar29.csv')"
   ]
  },
  {
   "cell_type": "code",
   "execution_count": 56,
   "metadata": {
    "collapsed": false
   },
   "outputs": [
    {
     "name": "stdout",
     "output_type": "stream",
     "text": [
      "Files read\n",
      "Times matched\n",
      "Calculated relative velocity\n",
      "Detrended NO2\n",
      "Done writing file\n"
     ]
    }
   ],
   "source": [
    "combine_all('GPS_rides/BEAR/Mar30.csv',\n",
    "        'SCK_rides/RO/Mar30_SCK1_RO.csv',\n",
    "        'SCK_rides/RO/Mar30_SCK2_RO.csv',\n",
    "        'SCK_rides/RO/Mar30_SCK3_RO.csv',\n",
    "        'FS_data/Resamples/Mar30.csv',\n",
    "        'Combined/Mar30.csv')"
   ]
  },
  {
   "cell_type": "code",
   "execution_count": 57,
   "metadata": {
    "collapsed": false
   },
   "outputs": [
    {
     "name": "stdout",
     "output_type": "stream",
     "text": [
      "Files read\n",
      "Times matched\n",
      "Calculated relative velocity\n",
      "Detrended NO2\n",
      "Done writing file\n"
     ]
    }
   ],
   "source": [
    "combine_all('GPS_rides/BEAR/Apr4.csv',\n",
    "        'SCK_rides/RO/Apr4_SCK1_RO.csv',\n",
    "        'SCK_rides/RO/Apr4_SCK2_RO.csv',\n",
    "        'SCK_rides/RO/Apr4_SCK3_RO.csv',\n",
    "        'FS_data/Resamples/Apr4.csv',\n",
    "        'Combined/Apr4.csv')"
   ]
  },
  {
   "cell_type": "code",
   "execution_count": 58,
   "metadata": {
    "collapsed": false
   },
   "outputs": [
    {
     "name": "stdout",
     "output_type": "stream",
     "text": [
      "Files read\n",
      "Times matched\n",
      "Calculated relative velocity\n",
      "Detrended NO2\n",
      "Done writing file\n"
     ]
    }
   ],
   "source": [
    "combine_all('GPS_rides/BEAR/Apr5.csv',\n",
    "        'SCK_rides/RO/Apr5_SCK1_RO.csv',\n",
    "        'SCK_rides/RO/Apr5_SCK2_RO.csv',\n",
    "        'SCK_rides/RO/Apr5_SCK3_RO.csv',\n",
    "        'FS_data/Resamples/Apr5.csv',\n",
    "        'Combined/Apr5.csv')"
   ]
  },
  {
   "cell_type": "code",
   "execution_count": 59,
   "metadata": {
    "collapsed": false
   },
   "outputs": [
    {
     "name": "stdout",
     "output_type": "stream",
     "text": [
      "Files read\n",
      "Times matched\n",
      "Calculated relative velocity\n",
      "Detrended NO2\n",
      "Done writing file\n"
     ]
    }
   ],
   "source": [
    "combine_all('GPS_rides/BEAR/Apr6.csv',\n",
    "        'SCK_rides/RO/Apr6_SCK1_RO.csv',\n",
    "        'SCK_rides/RO/Apr6_SCK2_RO.csv',\n",
    "        'SCK_rides/RO/Apr6_SCK3_dummy.csv',\n",
    "        'FS_data/Resamples/Apr6.csv',\n",
    "        'Combined/Apr6.csv')"
   ]
  },
  {
   "cell_type": "code",
   "execution_count": 60,
   "metadata": {
    "collapsed": false
   },
   "outputs": [
    {
     "name": "stdout",
     "output_type": "stream",
     "text": [
      "Files read\n",
      "Times matched\n",
      "Calculated relative velocity\n",
      "Detrended NO2\n",
      "Done writing file\n"
     ]
    }
   ],
   "source": [
    "combine_all('GPS_rides/BEAR/Apr7.csv',\n",
    "        'SCK_rides/RO/Apr7_SCK1_RO.csv',\n",
    "        'SCK_rides/RO/Apr7_SCK2_RO.csv',\n",
    "        'SCK_rides/RO/Apr7_SCK3_RO.csv',\n",
    "        'FS_data/Resamples/Apr7.csv',\n",
    "        'Combined/Apr7.csv')"
   ]
  },
  {
   "cell_type": "code",
   "execution_count": 61,
   "metadata": {
    "collapsed": false
   },
   "outputs": [
    {
     "name": "stdout",
     "output_type": "stream",
     "text": [
      "Files read\n",
      "Times matched\n",
      "Calculated relative velocity\n",
      "Detrended NO2\n",
      "Done writing file\n"
     ]
    }
   ],
   "source": [
    "combine_all('GPS_rides/BEAR/Apr13.csv',\n",
    "        'SCK_rides/RO/Apr13_SCK1_RO.csv',\n",
    "        'SCK_rides/RO/Apr13_SCK2_RO.csv',\n",
    "        'SCK_rides/RO/Apr13_SCK3_RO.csv',\n",
    "        'FS_data/Resamples/Apr13.csv',\n",
    "        'Combined/Apr13.csv')"
   ]
  },
  {
   "cell_type": "code",
   "execution_count": 62,
   "metadata": {
    "collapsed": false
   },
   "outputs": [
    {
     "name": "stdout",
     "output_type": "stream",
     "text": [
      "Files read\n",
      "Times matched\n",
      "Calculated relative velocity\n",
      "Detrended NO2\n",
      "Done writing file\n"
     ]
    }
   ],
   "source": [
    "combine_all('GPS_rides/BEAR/Apr14.csv',\n",
    "        'SCK_rides/RO/Apr14_SCK1_RO.csv',\n",
    "        'SCK_rides/RO/Apr14_SCK2_RO.csv',\n",
    "        'SCK_rides/RO/Apr14_SCK3_RO.csv',\n",
    "        'FS_data/Resamples/Apr14.csv',\n",
    "        'Combined/Apr14.csv')"
   ]
  },
  {
   "cell_type": "code",
   "execution_count": 63,
   "metadata": {
    "collapsed": false
   },
   "outputs": [
    {
     "name": "stdout",
     "output_type": "stream",
     "text": [
      "Files read\n",
      "Times matched\n",
      "Calculated relative velocity\n",
      "Detrended NO2\n",
      "Done writing file\n"
     ]
    }
   ],
   "source": [
    "combine_all('GPS_rides/BEAR/Apr15.csv',\n",
    "        'SCK_rides/RO/Apr15_SCK1_RO.csv',\n",
    "        'SCK_rides/RO/Apr15_SCK2_RO.csv',\n",
    "        'SCK_rides/RO/Apr15_SCK3_RO.csv',\n",
    "        'FS_data/Resamples/Apr15.csv',\n",
    "        'Combined/Apr15.csv')"
   ]
  },
  {
   "cell_type": "code",
   "execution_count": 64,
   "metadata": {
    "collapsed": false
   },
   "outputs": [
    {
     "name": "stdout",
     "output_type": "stream",
     "text": [
      "Files read\n",
      "Times matched\n",
      "Calculated relative velocity\n",
      "Detrended NO2\n",
      "Done writing file\n"
     ]
    }
   ],
   "source": [
    "combine_all('GPS_rides/BEAR/Apr27.csv',\n",
    "        'SCK_rides/RO/Apr27_SCK1_dummy.csv',\n",
    "        'SCK_rides/RO/Apr27_SCK2_RO.csv',\n",
    "        'SCK_rides/RO/Apr27_SCK3_RO.csv',\n",
    "        'FS_data/Resamples/Apr27.csv',\n",
    "        'Combined/Apr27.csv')"
   ]
  },
  {
   "cell_type": "code",
   "execution_count": 65,
   "metadata": {
    "collapsed": false
   },
   "outputs": [
    {
     "name": "stdout",
     "output_type": "stream",
     "text": [
      "Files read\n",
      "Times matched\n",
      "Calculated relative velocity\n",
      "Detrended NO2\n",
      "Done writing file\n"
     ]
    }
   ],
   "source": [
    "combine_all('GPS_rides/BEAR/Apr28.csv',\n",
    "        'SCK_rides/RO/Apr28_SCK1_RO.csv',\n",
    "        'SCK_rides/RO/Apr28_SCK2_RO.csv',\n",
    "        'SCK_rides/RO/Apr28_SCK3_RO.csv',\n",
    "        'FS_data/Resamples/Apr28.csv',\n",
    "        'Combined/Apr28.csv')"
   ]
  },
  {
   "cell_type": "code",
   "execution_count": 66,
   "metadata": {
    "collapsed": false
   },
   "outputs": [
    {
     "name": "stdout",
     "output_type": "stream",
     "text": [
      "Files read\n",
      "Times matched\n",
      "Calculated relative velocity\n",
      "Detrended NO2\n",
      "Done writing file\n"
     ]
    }
   ],
   "source": [
    "combine_all('GPS_rides/BEAR/Apr29.csv',\n",
    "        'SCK_rides/RO/Apr29_SCK1_RO.csv',\n",
    "        'SCK_rides/RO/Apr29_SCK2_RO.csv',\n",
    "        'SCK_rides/RO/Apr29_SCK3_RO.csv',\n",
    "        'FS_data/Resamples/Apr29.csv',\n",
    "        'Combined/Apr29.csv')"
   ]
  },
  {
   "cell_type": "code",
   "execution_count": 67,
   "metadata": {
    "collapsed": false
   },
   "outputs": [
    {
     "name": "stdout",
     "output_type": "stream",
     "text": [
      "Files read\n",
      "Times matched\n",
      "Calculated relative velocity\n",
      "Detrended NO2\n",
      "Done writing file\n"
     ]
    }
   ],
   "source": [
    "combine_all('GPS_rides/BEAR/May5.csv',\n",
    "        'SCK_rides/RO/May5_SCK1_dummy.csv',\n",
    "        'SCK_rides/RO/May5_SCK2_RO.csv',\n",
    "        'SCK_rides/RO/May5_SCK3_RO.csv',\n",
    "        'FS_data/Resamples/May5.csv',\n",
    "        'Combined/May5.csv')"
   ]
  },
  {
   "cell_type": "code",
   "execution_count": 68,
   "metadata": {
    "collapsed": false
   },
   "outputs": [
    {
     "name": "stdout",
     "output_type": "stream",
     "text": [
      "Files read\n",
      "Times matched\n",
      "Calculated relative velocity\n",
      "Detrended NO2\n",
      "Done writing file\n"
     ]
    }
   ],
   "source": [
    "combine_all('GPS_rides/BEAR/May6.csv',\n",
    "        'SCK_rides/RO/May6_SCK1_dummy.csv',\n",
    "        'SCK_rides/RO/May6_SCK2_RO.csv',\n",
    "        'SCK_rides/RO/May6_SCK3_RO.csv',\n",
    "        'FS_data/Resamples/May6.csv',\n",
    "        'Combined/May6.csv')"
   ]
  },
  {
   "cell_type": "code",
   "execution_count": null,
   "metadata": {
    "collapsed": true
   },
   "outputs": [],
   "source": []
  },
  {
   "cell_type": "code",
   "execution_count": null,
   "metadata": {
    "collapsed": true
   },
   "outputs": [],
   "source": []
  },
  {
   "cell_type": "code",
   "execution_count": null,
   "metadata": {
    "collapsed": true
   },
   "outputs": [],
   "source": []
  },
  {
   "cell_type": "code",
   "execution_count": null,
   "metadata": {
    "collapsed": true
   },
   "outputs": [],
   "source": []
  },
  {
   "cell_type": "code",
   "execution_count": null,
   "metadata": {
    "collapsed": true
   },
   "outputs": [],
   "source": []
  },
  {
   "cell_type": "code",
   "execution_count": null,
   "metadata": {
    "collapsed": true
   },
   "outputs": [],
   "source": []
  }
 ],
 "metadata": {
  "kernelspec": {
   "display_name": "Python 2",
   "language": "python",
   "name": "python2"
  },
  "language_info": {
   "codemirror_mode": {
    "name": "ipython",
    "version": 2
   },
   "file_extension": ".py",
   "mimetype": "text/x-python",
   "name": "python",
   "nbconvert_exporter": "python",
   "pygments_lexer": "ipython2",
   "version": "2.7.10"
  }
 },
 "nbformat": 4,
 "nbformat_minor": 0
}
