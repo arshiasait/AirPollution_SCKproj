{
 "cells": [
  {
   "cell_type": "code",
   "execution_count": 1,
   "metadata": {
    "collapsed": true
   },
   "outputs": [],
   "source": [
    "# function that takes the top ten percent CO from a file. Takes in all files and makes one file. "
   ]
  },
  {
   "cell_type": "code",
   "execution_count": 51,
   "metadata": {
    "collapsed": true
   },
   "outputs": [],
   "source": [
    "%matplotlib inline\n",
    "import matplotlib.pyplot as plt\n",
    "import pandas as pd\n",
    "import numpy as np\n",
    "from datetime import datetime as dt\n",
    "import datetime\n",
    "import csv\n",
    "import math\n",
    "from matplotlib.ticker import MultipleLocator, FormatStrFormatter\n",
    "from coordinateSystems import GeographicSystem\n",
    "from coordinateSystems import TangentPlaneCartesianSystem"
   ]
  },
  {
   "cell_type": "code",
   "execution_count": 52,
   "metadata": {
    "collapsed": false
   },
   "outputs": [],
   "source": [
    "def bot_ten_SCK2(filelist,var,output_file):\n",
    "    '''\n",
    "    Generates a new file of only the top 10% CO levels for a list of files. Only for SCK2.\n",
    "    Input the list of files.\n",
    "    Output an output file of all days combined\n",
    "    '''\n",
    "    \n",
    "    with open(output_file, 'wb') as f:\n",
    "        writer = csv.writer(f)\n",
    "        writer.writerow(['GPStime','SCK2time','FStime',\n",
    "                         'X(m)','Y(m)',\n",
    "                         'lat(DD)','lon(DD)','bearing(deg)','speed(m/s)','distance(m)',\n",
    "                         'SCK2_CO','SCK2_NO2','SCK2_TC','SCK2_RH','SCK2_LX','SCK2_DB',\n",
    "                         'FS_TF','FS_RH','FS_WS','FS_WD','FS_UP','FS_DN',\n",
    "                         'V_r','uwind','vwind','uact','vact'])\n",
    "    \n",
    "    for i,item in enumerate(filelist):\n",
    "        # reading in data\n",
    "        data = pd.read_csv(item)\n",
    "        field = data[var]\n",
    "        \n",
    "        #calculating percentiles\n",
    "        stat = field.describe(percentiles=[0.1,0.2,0.3,0.4,0.5,0.6,0.7,0.8,0.9])\n",
    "        \n",
    "        # getting gps corrdinates on local plane\n",
    "        lat_deg = data['lat(DD)']\n",
    "        lon_deg = data['lon(DD)']\n",
    "        alt = np.zeros_like(np.array(lat_deg))\n",
    "        geo = GeographicSystem() \n",
    "        X, Y, Z = geo.toECEF(np.array(lon_deg), np.array(lat_deg), alt) # Using degrees\n",
    "        stack = np.vstack((X,Y,Z))\n",
    "        lat0, lon0 = (33.5783465, -101.8954462) # centered at the Fixed Site\n",
    "        tangent = TangentPlaneCartesianSystem(ctrLat=lat0,ctrLon=lon0,ctrAlt=978)\n",
    "        local = (tangent.toLocal(stack))\n",
    "        local2 = local[:,:].T\n",
    "        \n",
    "        #Separating the top ten percent of CO values and indexing \n",
    "        X = []\n",
    "        Y = []\n",
    "        ind = []\n",
    "        for i in range(0,len(field)):\n",
    "                if (field[i] < stat[4]):\n",
    "                    X = np.append(local2[i,:2][0],X)\n",
    "                    Y = np.append(local2[i,:2][1],Y)\n",
    "                    ind = np.append(i,ind)\n",
    "                else:\n",
    "                    pass\n",
    "        X = X[::-1]\n",
    "        Y = Y[::-1]\n",
    "        ind = ind[::-1]\n",
    "        \n",
    "            # write to columns in .csv\n",
    "        rows = zip(data['GPStime'][ind],data['SCK2time'][ind],data['FStime'][ind], # time columns\n",
    "                   \n",
    "                   X,Y, # distances for plotting\n",
    "\n",
    "                   data['lat(DD)'][ind],data['lon(DD)'][ind],data['bearing(deg)'][ind],\n",
    "                   data['speed(m/s)'][ind],data['distance(m)'][ind], #gps columns\n",
    "\n",
    "                   data['SCK2_CO'][ind],data['SCK2_NO2'][ind],data['SCK2_TC'][ind], # sck1 columns\n",
    "                   data['SCK2_RH'][ind],data['SCK2_LX'][ind],data['SCK2_DB'][ind],\n",
    "\n",
    "                   data['FS_TF'][ind],data['FS_RH'][ind],data['FS_WS'][ind], # fs columns\n",
    "                   data['FS_WD'][ind],data['FS_UP'][ind],data['FS_DN'][ind],\n",
    "\n",
    "                   data['V_r'][ind], data['uwind'][ind], data['vwind'][ind],\n",
    "                   data['uact'][ind], data['vact'][ind]) # calculated columns\n",
    "\n",
    "        with open(output_file, 'a') as fa:\n",
    "            writer = csv.writer(fa)\n",
    "            for i in rows:\n",
    "                writer.writerow(i) \n",
    "        print 'Done writing file for',item"
   ]
  },
  {
   "cell_type": "code",
   "execution_count": 53,
   "metadata": {
    "collapsed": true
   },
   "outputs": [],
   "source": [
    "def top_ten_SCK2(filelist,var,output_file):\n",
    "    '''\n",
    "    Generates a new file of only the top 10% CO levels for a list of files. Only for SCK2.\n",
    "    Input the list of files.\n",
    "    Output an output file of all days combined\n",
    "    '''\n",
    "    \n",
    "    with open(output_file, 'wb') as f:\n",
    "        writer = csv.writer(f)\n",
    "        writer.writerow(['GPStime','SCK2time','FStime',\n",
    "                         'X(m)','Y(m)',\n",
    "                         'lat(DD)','lon(DD)','bearing(deg)','speed(m/s)','distance(m)',\n",
    "                         'SCK2_CO','SCK2_NO2','SCK2_TC','SCK2_RH','SCK2_LX','SCK2_DB',\n",
    "                         'FS_TF','FS_RH','FS_WS','FS_WD','FS_UP','FS_DN',\n",
    "                         'V_r','uwind','vwind','uact','vact'])\n",
    "    \n",
    "    for i,item in enumerate(filelist):\n",
    "        # reading in data\n",
    "        data = pd.read_csv(item)\n",
    "        field = data[var]\n",
    "        \n",
    "        #calculating percentiles\n",
    "        stat = field.describe(percentiles=[0.1,0.2,0.3,0.4,0.5,0.6,0.7,0.8,0.9])\n",
    "        \n",
    "        # getting gps corrdinates on local plane\n",
    "        lat_deg = data['lat(DD)']\n",
    "        lon_deg = data['lon(DD)']\n",
    "        alt = np.zeros_like(np.array(lat_deg))\n",
    "        geo = GeographicSystem() \n",
    "        X, Y, Z = geo.toECEF(np.array(lon_deg), np.array(lat_deg), alt) # Using degrees\n",
    "        stack = np.vstack((X,Y,Z))\n",
    "        lat0, lon0 = (33.5783465, -101.8954462) # centered at the Fixed Site\n",
    "        tangent = TangentPlaneCartesianSystem(ctrLat=lat0,ctrLon=lon0,ctrAlt=978)\n",
    "        local = (tangent.toLocal(stack))\n",
    "        local2 = local[:,:].T\n",
    "        \n",
    "        #Separating the top ten percent of CO values and indexing \n",
    "        X = []\n",
    "        Y = []\n",
    "        ind = []\n",
    "        for i in range(0,len(field)):\n",
    "                if (field[i] > stat[12]):\n",
    "                    X = np.append(local2[i,:2][0],X)\n",
    "                    Y = np.append(local2[i,:2][1],Y)\n",
    "                    ind = np.append(i,ind)\n",
    "                else:\n",
    "                    pass\n",
    "        X = X[::-1]\n",
    "        Y = Y[::-1]\n",
    "        ind = ind[::-1]\n",
    "        \n",
    "            # write to columns in .csv\n",
    "        rows = zip(data['GPStime'][ind],data['SCK2time'][ind],data['FStime'][ind], # time columns\n",
    "                   \n",
    "                   X,Y, # distances for plotting\n",
    "\n",
    "                   data['lat(DD)'][ind],data['lon(DD)'][ind],data['bearing(deg)'][ind],\n",
    "                   data['speed(m/s)'][ind],data['distance(m)'][ind], #gps columns\n",
    "\n",
    "                   data['SCK2_CO'][ind],data['SCK2_NO2'][ind],data['SCK2_TC'][ind], # sck1 columns\n",
    "                   data['SCK2_RH'][ind],data['SCK2_LX'][ind],data['SCK2_DB'][ind],\n",
    "\n",
    "                   data['FS_TF'][ind],data['FS_RH'][ind],data['FS_WS'][ind], # fs columns\n",
    "                   data['FS_WD'][ind],data['FS_UP'][ind],data['FS_DN'][ind],\n",
    "\n",
    "                   data['V_r'][ind], data['uwind'][ind], data['vwind'][ind],\n",
    "                   data['uact'][ind], data['vact'][ind]) # calculated columns\n",
    "\n",
    "        with open(output_file, 'a') as fa:\n",
    "            writer = csv.writer(fa)\n",
    "            for i in rows:\n",
    "                writer.writerow(i) \n",
    "        print 'Done writing file for',item"
   ]
  },
  {
   "cell_type": "code",
   "execution_count": 54,
   "metadata": {
    "collapsed": true
   },
   "outputs": [],
   "source": [
    "def all_days_SCK2(filelist,var,output_file):\n",
    "    '''\n",
    "    Generates a new file of files combined. Only for SCK2.\n",
    "    Inputs the list of files.\n",
    "    Output an output file of all days combined\n",
    "    '''\n",
    "    \n",
    "    with open(output_file, 'wb') as f:\n",
    "        writer = csv.writer(f)\n",
    "        writer.writerow(['GPStime','SCK2time','FStime',\n",
    "                         'X(m)','Y(m)',\n",
    "                         'lat(DD)','lon(DD)','bearing(deg)','speed(m/s)','distance(m)',\n",
    "                         'SCK2_CO','SCK2_NO2','SCK2_TC','SCK2_RH','SCK2_LX','SCK2_DB',\n",
    "                         'FS_TF','FS_RH','FS_WS','FS_WD','FS_UP','FS_DN',\n",
    "                         'V_r','uwind','vwind','uact','vact'])\n",
    "    \n",
    "    for i,item in enumerate(filelist):\n",
    "        # reading in data\n",
    "        data = pd.read_csv(item)\n",
    "        field = data[var]\n",
    "        \n",
    "        #calculating percentiles\n",
    "        #stat = field.describe(percentiles=[0.1,0.2,0.3,0.4,0.5,0.6,0.7,0.8,0.9])\n",
    "        \n",
    "        # getting gps corrdinates on local plane\n",
    "        lat_deg = data['lat(DD)']\n",
    "        lon_deg = data['lon(DD)']\n",
    "        alt = np.zeros_like(np.array(lat_deg))\n",
    "        geo = GeographicSystem() \n",
    "        X, Y, Z = geo.toECEF(np.array(lon_deg), np.array(lat_deg), alt) # Using degrees\n",
    "        stack = np.vstack((X,Y,Z))\n",
    "        lat0, lon0 = (33.5783465, -101.8954462) # centered at the Fixed Site\n",
    "        tangent = TangentPlaneCartesianSystem(ctrLat=lat0,ctrLon=lon0,ctrAlt=978)\n",
    "        local = (tangent.toLocal(stack))\n",
    "        local2 = local[:,:].T\n",
    "        \n",
    "        #Separating the top ten percent of CO values and indexing \n",
    "        X = []\n",
    "        Y = []\n",
    "        ind = []\n",
    "        for i in range(0,len(field)):\n",
    "                if (field[i] < 10000000.):\n",
    "                    X = np.append(local2[i,:2][0],X)\n",
    "                    Y = np.append(local2[i,:2][1],Y)\n",
    "                    ind = np.append(i,ind)\n",
    "                else:\n",
    "                    pass\n",
    "        X = X[::-1]\n",
    "        Y = Y[::-1]\n",
    "        ind = ind[::-1]\n",
    "        \n",
    "            # write to columns in .csv\n",
    "        rows = zip(data['GPStime'][ind],data['SCK2time'][ind],data['FStime'][ind], # time columns\n",
    "                   \n",
    "                   X,Y, # distances for plotting\n",
    "\n",
    "                   data['lat(DD)'][ind],data['lon(DD)'][ind],data['bearing(deg)'][ind],\n",
    "                   data['speed(m/s)'][ind],data['distance(m)'][ind], #gps columns\n",
    "\n",
    "                   data['SCK2_CO'][ind],data['SCK2_NO2'][ind],data['SCK2_TC'][ind], # sck1 columns\n",
    "                   data['SCK2_RH'][ind],data['SCK2_LX'][ind],data['SCK2_DB'][ind],\n",
    "\n",
    "                   data['FS_TF'][ind],data['FS_RH'][ind],data['FS_WS'][ind], # fs columns\n",
    "                   data['FS_WD'][ind],data['FS_UP'][ind],data['FS_DN'][ind],\n",
    "\n",
    "                   data['V_r'][ind], data['uwind'][ind], data['vwind'][ind],\n",
    "                   data['uact'][ind], data['vact'][ind]) # calculated columns\n",
    "\n",
    "        with open(output_file, 'a') as fa:\n",
    "            writer = csv.writer(fa)\n",
    "            for i in rows:\n",
    "                writer.writerow(i) \n",
    "        print 'Done writing file for',item"
   ]
  },
  {
   "cell_type": "code",
   "execution_count": 78,
   "metadata": {
    "collapsed": false
   },
   "outputs": [
    {
     "name": "stdout",
     "output_type": "stream",
     "text": [
      "['Apr27.csv', 'Apr28.csv', 'Apr29.csv', 'May5.csv', 'May6.csv']\n"
     ]
    }
   ],
   "source": [
    "datalist_cases = list([             # ommitted Oct2 because diff route\n",
    "                 \n",
    "                 #'Mar2.csv',#1\n",
    "                 #'Mar4.csv',\n",
    "                 #'Mar7.csv',\n",
    "                 #'Mar14.csv', \n",
    "                 #'Mar21.csv',#5  \n",
    "                 #'Mar22.csv', \n",
    "                 #'Mar25.csv', \n",
    "                 #'Mar28.csv',\n",
    "                 #'Mar29.csv',\n",
    "                 #'Mar30.csv',#10\n",
    "                 #'Apr4.csv',\n",
    "                 #'Apr5.csv',\n",
    "                 #'Apr6.csv',\n",
    "                 #'Apr7.csv',\n",
    "                 #'Apr13.csv',#15\n",
    "                 #'Apr14.csv',\n",
    "                 #'Apr15.csv',\n",
    "                 'Apr27.csv',\n",
    "                 'Apr28.csv',\n",
    "                 'Apr29.csv',#20\n",
    "                 'May5.csv',\n",
    "                 'May6.csv'#22\n",
    "                              ])\n",
    "                 \n",
    "print datalist_cases"
   ]
  },
  {
   "cell_type": "code",
   "execution_count": 104,
   "metadata": {
    "collapsed": false
   },
   "outputs": [
    {
     "name": "stdout",
     "output_type": "stream",
     "text": [
      "Done writing file for Apr27.csv\n",
      "Done writing file for Apr28.csv\n",
      "Done writing file for Apr29.csv\n",
      "Done writing file for May5.csv\n",
      "Done writing file for May6.csv\n"
     ]
    }
   ],
   "source": [
    "top_ten_SCK2(datalist_cases,'SCK2_NO2','ten_NO2_SCK2_cases.csv')"
   ]
  },
  {
   "cell_type": "code",
   "execution_count": 105,
   "metadata": {
    "collapsed": false
   },
   "outputs": [
    {
     "name": "stdout",
     "output_type": "stream",
     "text": [
      "['Mar2.csv', 'Mar4.csv', 'Mar7.csv', 'Mar14.csv', 'Mar21.csv', 'Mar22.csv', 'Mar25.csv', 'Mar28.csv', 'Mar29.csv', 'Mar30.csv', 'Apr4.csv', 'Apr5.csv', 'Apr6.csv', 'Apr7.csv', 'Apr13.csv', 'Apr14.csv', 'Apr15.csv']\n"
     ]
    }
   ],
   "source": [
    "datalist_nocases = list([             # ommitted Oct2 because diff route\n",
    "                 \n",
    "                 'Mar2.csv',#1\n",
    "                 'Mar4.csv',\n",
    "                 'Mar7.csv',\n",
    "                 'Mar14.csv', \n",
    "                 'Mar21.csv',#5  \n",
    "                 'Mar22.csv', \n",
    "                 'Mar25.csv', \n",
    "                 'Mar28.csv',\n",
    "                 'Mar29.csv',\n",
    "                 'Mar30.csv',#10\n",
    "                 'Apr4.csv',\n",
    "                 'Apr5.csv',\n",
    "                 'Apr6.csv',\n",
    "                 'Apr7.csv',\n",
    "                 'Apr13.csv',#15\n",
    "                 'Apr14.csv',\n",
    "                 'Apr15.csv',\n",
    "                 #'Apr27.csv',\n",
    "                 #'Apr28.csv',\n",
    "                 #'Apr29.csv',#20\n",
    "                 #'May5.csv',\n",
    "                 #'May6.csv'#22\n",
    "                              ])\n",
    "                 \n",
    "print datalist_nocases"
   ]
  },
  {
   "cell_type": "code",
   "execution_count": 106,
   "metadata": {
    "collapsed": false
   },
   "outputs": [
    {
     "name": "stdout",
     "output_type": "stream",
     "text": [
      "Done writing file for Mar2.csv\n",
      "Done writing file for Mar4.csv\n",
      "Done writing file for Mar7.csv\n",
      "Done writing file for Mar14.csv\n",
      "Done writing file for Mar21.csv\n",
      "Done writing file for Mar22.csv\n",
      "Done writing file for Mar25.csv\n",
      "Done writing file for Mar28.csv\n",
      "Done writing file for Mar29.csv\n",
      "Done writing file for Mar30.csv\n",
      "Done writing file for Apr4.csv\n",
      "Done writing file for Apr5.csv\n",
      "Done writing file for Apr6.csv\n",
      "Done writing file for Apr7.csv\n",
      "Done writing file for Apr13.csv\n",
      "Done writing file for Apr14.csv\n",
      "Done writing file for Apr15.csv\n"
     ]
    }
   ],
   "source": [
    "top_ten_SCK2(datalist_nocases,'SCK2_NO2','ten_NO2_SCK2_nocases.csv')"
   ]
  },
  {
   "cell_type": "code",
   "execution_count": null,
   "metadata": {
    "collapsed": true
   },
   "outputs": [],
   "source": []
  },
  {
   "cell_type": "code",
   "execution_count": 84,
   "metadata": {
    "collapsed": true
   },
   "outputs": [],
   "source": [
    "cases = pd.read_csv('ten_SCK2_cases.csv')\n",
    "nocases = pd.read_csv('ten_SCK2_nocases.csv')"
   ]
  },
  {
   "cell_type": "code",
   "execution_count": 85,
   "metadata": {
    "collapsed": false
   },
   "outputs": [
    {
     "data": {
      "text/plain": [
       "304.31211906005223"
      ]
     },
     "execution_count": 85,
     "metadata": {},
     "output_type": "execute_result"
    }
   ],
   "source": [
    "np.mean(cases['SCK2_CO'])"
   ]
  },
  {
   "cell_type": "code",
   "execution_count": 86,
   "metadata": {
    "collapsed": false
   },
   "outputs": [
    {
     "data": {
      "text/plain": [
       "398.08199102439022"
      ]
     },
     "execution_count": 86,
     "metadata": {},
     "output_type": "execute_result"
    }
   ],
   "source": [
    "np.mean(nocases['SCK2_CO'])"
   ]
  },
  {
   "cell_type": "code",
   "execution_count": 87,
   "metadata": {
    "collapsed": false
   },
   "outputs": [
    {
     "data": {
      "text/plain": [
       "bearing(deg)   -0.122112\n",
       "speed(m/s)      0.088910\n",
       "distance(m)     0.104362\n",
       "SCK2_CO         1.000000\n",
       "SCK2_NO2        0.035961\n",
       "SCK2_TC         0.083076\n",
       "SCK2_RH         0.265547\n",
       "SCK2_LX        -0.036747\n",
       "SCK2_DB         0.095866\n",
       "FS_TF           0.122665\n",
       "FS_RH           0.231761\n",
       "FS_WS           0.170998\n",
       "FS_WD          -0.311325\n",
       "FS_UP          -0.044105\n",
       "FS_DN          -0.051076\n",
       "V_r            -0.016023\n",
       "dtype: float64"
      ]
     },
     "execution_count": 87,
     "metadata": {},
     "output_type": "execute_result"
    }
   ],
   "source": [
    "cases[cases.columns[7:-4]].apply(lambda x: x.corr(cases['SCK2_CO']))"
   ]
  },
  {
   "cell_type": "code",
   "execution_count": 88,
   "metadata": {
    "collapsed": false
   },
   "outputs": [
    {
     "data": {
      "text/plain": [
       "bearing(deg)   -0.058437\n",
       "speed(m/s)     -0.027983\n",
       "distance(m)    -0.154034\n",
       "SCK2_CO         1.000000\n",
       "SCK2_NO2       -0.221839\n",
       "SCK2_TC        -0.189439\n",
       "SCK2_RH         0.171331\n",
       "SCK2_LX        -0.120908\n",
       "SCK2_DB         0.114699\n",
       "FS_TF          -0.165058\n",
       "FS_RH           0.153074\n",
       "FS_WS           0.341827\n",
       "FS_WD           0.028747\n",
       "FS_UP           0.258765\n",
       "FS_DN           0.301193\n",
       "V_r             0.170685\n",
       "dtype: float64"
      ]
     },
     "execution_count": 88,
     "metadata": {},
     "output_type": "execute_result"
    }
   ],
   "source": [
    "nocases[nocases.columns[7:-4]].apply(lambda x: x.corr(nocases['SCK2_CO']))"
   ]
  },
  {
   "cell_type": "code",
   "execution_count": 89,
   "metadata": {
    "collapsed": false
   },
   "outputs": [
    {
     "data": {
      "text/plain": [
       "<matplotlib.collections.PathCollection at 0x109fc2990>"
      ]
     },
     "execution_count": 89,
     "metadata": {},
     "output_type": "execute_result"
    },
    {
     "data": {
      "image/png": "[encoded data removed]",
      "text/plain": [
       "<matplotlib.figure.Figure at 0x10a0d3910>"
      ]
     },
     "metadata": {},
     "output_type": "display_data"
    }
   ],
   "source": [
    "plt.scatter(cases['SCK2_CO'],cases['V_r'],linewidths=0)"
   ]
  },
  {
   "cell_type": "code",
   "execution_count": 90,
   "metadata": {
    "collapsed": false
   },
   "outputs": [
    {
     "data": {
      "text/plain": [
       "<matplotlib.collections.PathCollection at 0x10a2e3150>"
      ]
     },
     "execution_count": 90,
     "metadata": {},
     "output_type": "execute_result"
    },
    {
     "data": {
      "image/png": "[encoded data removed]",
      "text/plain": [
       "<matplotlib.figure.Figure at 0x10a2bb750>"
      ]
     },
     "metadata": {},
     "output_type": "display_data"
    }
   ],
   "source": [
    "plt.scatter(nocases['SCK2_CO'],nocases['V_r'],linewidths=0)"
   ]
  },
  {
   "cell_type": "code",
   "execution_count": null,
   "metadata": {
    "collapsed": true
   },
   "outputs": [],
   "source": []
  },
  {
   "cell_type": "code",
   "execution_count": 97,
   "metadata": {
    "collapsed": false
   },
   "outputs": [
    {
     "data": {
      "text/plain": [
       "30.241932914371123"
      ]
     },
     "execution_count": 97,
     "metadata": {},
     "output_type": "execute_result"
    }
   ],
   "source": [
    "np.mean(cases['SCK2_NO2'])"
   ]
  },
  {
   "cell_type": "code",
   "execution_count": 98,
   "metadata": {
    "collapsed": false
   },
   "outputs": [
    {
     "data": {
      "text/plain": [
       "30.059089122847968"
      ]
     },
     "execution_count": 98,
     "metadata": {},
     "output_type": "execute_result"
    }
   ],
   "source": [
    "np.mean(nocases['SCK2_NO2'])"
   ]
  },
  {
   "cell_type": "code",
   "execution_count": 99,
   "metadata": {
    "collapsed": false
   },
   "outputs": [
    {
     "data": {
      "text/plain": [
       "10.681283854599164"
      ]
     },
     "execution_count": 99,
     "metadata": {},
     "output_type": "execute_result"
    }
   ],
   "source": [
    "np.std(cases['SCK2_NO2'])"
   ]
  },
  {
   "cell_type": "code",
   "execution_count": 100,
   "metadata": {
    "collapsed": false
   },
   "outputs": [
    {
     "data": {
      "text/plain": [
       "7.4233113110237596"
      ]
     },
     "execution_count": 100,
     "metadata": {},
     "output_type": "execute_result"
    }
   ],
   "source": [
    "np.std(nocases['SCK2_NO2'])"
   ]
  },
  {
   "cell_type": "code",
   "execution_count": null,
   "metadata": {
    "collapsed": true
   },
   "outputs": [],
   "source": []
  },
  {
   "cell_type": "code",
   "execution_count": 93,
   "metadata": {
    "collapsed": false
   },
   "outputs": [
    {
     "data": {
      "text/plain": [
       "bearing(deg)   -0.042382\n",
       "speed(m/s)      0.289725\n",
       "distance(m)    -0.352870\n",
       "SCK2_CO         0.035961\n",
       "SCK2_NO2        1.000000\n",
       "SCK2_TC        -0.087774\n",
       "SCK2_RH        -0.818213\n",
       "SCK2_LX        -0.105674\n",
       "SCK2_DB        -0.280555\n",
       "FS_TF          -0.003104\n",
       "FS_RH          -0.774642\n",
       "FS_WS           0.659528\n",
       "FS_WD           0.310094\n",
       "FS_UP           0.591585\n",
       "FS_DN           0.515433\n",
       "V_r             0.659733\n",
       "dtype: float64"
      ]
     },
     "execution_count": 93,
     "metadata": {},
     "output_type": "execute_result"
    }
   ],
   "source": [
    "cases[cases.columns[7:-4]].apply(lambda x: x.corr(cases['SCK2_NO2']))"
   ]
  },
  {
   "cell_type": "code",
   "execution_count": 94,
   "metadata": {
    "collapsed": false
   },
   "outputs": [
    {
     "data": {
      "text/plain": [
       "bearing(deg)   -0.033848\n",
       "speed(m/s)      0.064823\n",
       "distance(m)    -0.271244\n",
       "SCK2_CO        -0.221839\n",
       "SCK2_NO2        1.000000\n",
       "SCK2_TC        -0.141344\n",
       "SCK2_RH        -0.330728\n",
       "SCK2_LX         0.149939\n",
       "SCK2_DB         0.251451\n",
       "FS_TF           0.082144\n",
       "FS_RH          -0.351334\n",
       "FS_WS          -0.054244\n",
       "FS_WD           0.246734\n",
       "FS_UP          -0.126881\n",
       "FS_DN          -0.245766\n",
       "V_r             0.057166\n",
       "dtype: float64"
      ]
     },
     "execution_count": 94,
     "metadata": {},
     "output_type": "execute_result"
    }
   ],
   "source": [
    "nocases[nocases.columns[7:-4]].apply(lambda x: x.corr(nocases['SCK2_NO2']))"
   ]
  },
  {
   "cell_type": "code",
   "execution_count": 95,
   "metadata": {
    "collapsed": false
   },
   "outputs": [
    {
     "data": {
      "text/plain": [
       "<matplotlib.collections.PathCollection at 0x10a423090>"
      ]
     },
     "execution_count": 95,
     "metadata": {},
     "output_type": "execute_result"
    },
    {
     "data": {
      "image/png": "[encoded data removed]",
      "text/plain": [
       "<matplotlib.figure.Figure at 0x10a0c9390>"
      ]
     },
     "metadata": {},
     "output_type": "display_data"
    }
   ],
   "source": [
    "plt.scatter(cases['SCK2_NO2'],cases['V_r'],linewidths=0)"
   ]
  },
  {
   "cell_type": "code",
   "execution_count": 96,
   "metadata": {
    "collapsed": false
   },
   "outputs": [
    {
     "data": {
      "text/plain": [
       "<matplotlib.collections.PathCollection at 0x10a7bfe10>"
      ]
     },
     "execution_count": 96,
     "metadata": {},
     "output_type": "execute_result"
    },
    {
     "data": {
      "image/png": "[encoded data removed]",
      "text/plain": [
       "<matplotlib.figure.Figure at 0x10a2bb850>"
      ]
     },
     "metadata": {},
     "output_type": "display_data"
    }
   ],
   "source": [
    "plt.scatter(nocases['SCK2_NO2'],nocases['V_r'],linewidths=0)"
   ]
  },
  {
   "cell_type": "code",
   "execution_count": null,
   "metadata": {
    "collapsed": true
   },
   "outputs": [],
   "source": []
  },
  {
   "cell_type": "code",
   "execution_count": null,
   "metadata": {
    "collapsed": true
   },
   "outputs": [],
   "source": []
  }
 ],
 "metadata": {
  "kernelspec": {
   "display_name": "Python 2",
   "language": "python",
   "name": "python2"
  },
  "language_info": {
   "codemirror_mode": {
    "name": "ipython",
    "version": 2
   },
   "file_extension": ".py",
   "mimetype": "text/x-python",
   "name": "python",
   "nbconvert_exporter": "python",
   "pygments_lexer": "ipython2",
   "version": "2.7.10"
  }
 },
 "nbformat": 4,
 "nbformat_minor": 0
}
