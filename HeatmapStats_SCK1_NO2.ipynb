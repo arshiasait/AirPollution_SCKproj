{
 "cells": [
  {
   "cell_type": "code",
   "execution_count": 1,
   "metadata": {
    "collapsed": true
   },
   "outputs": [],
   "source": [
    "%matplotlib inline\n",
    "import matplotlib.pyplot as plt\n",
    "import pandas as pd\n",
    "import numpy as np\n",
    "import scipy.stats as stats"
   ]
  },
  {
   "cell_type": "code",
   "execution_count": 2,
   "metadata": {
    "collapsed": true
   },
   "outputs": [],
   "source": [
    "# all data for each individual SCK: SCK1[n=26], SCK2[n=22], SCK2[n=21]\n",
    "SCK1 = pd.read_csv('Combined/NO2_ALL_SCK1.csv')"
   ]
  },
  {
   "cell_type": "code",
   "execution_count": 7,
   "metadata": {
    "collapsed": true
   },
   "outputs": [],
   "source": [
    "# the lowest 10% of CO each day overlaid for all days\n",
    "SCK1_tenNO2 = pd.read_csv('Combined/NO2_ten_SCK1.csv')"
   ]
  },
  {
   "cell_type": "code",
   "execution_count": 8,
   "metadata": {
    "collapsed": false
   },
   "outputs": [],
   "source": [
    "# specific part of the top ten % at an intersection\n",
    "SCK1_NO2_flint_18th = pd.read_csv('GISjuly/SCK1_NO2_flint_18th.txt')\n",
    "SCK1_NO2_flint_main = pd.read_csv('GISjuly/SCK1_NO2_flint_main.txt')\n",
    "SCK1_NO2_overpass = pd.read_csv('GISjuly/SCK1_NO2_overpass.txt')\n",
    "SCK1_NO2_TTUpkwy_18th = pd.read_csv('GISjuly/SCK1_NO2_TTUpkwy_18th.txt')"
   ]
  },
  {
   "cell_type": "code",
   "execution_count": 9,
   "metadata": {
    "collapsed": false
   },
   "outputs": [],
   "source": [
    "ten = SCK1_tenNO2['SCK1_NO2']\n",
    "knox = SCK1_NO2_flint_18th['SCK1_NO2']\n",
    "mem = SCK1_NO2_flint_main['SCK1_NO2']\n",
    "quak = SCK1_NO2_overpass['SCK1_NO2']\n",
    "pkwy1 = SCK1_NO2_TTUpkwy_18th['SCK1_NO2']"
   ]
  },
  {
   "cell_type": "code",
   "execution_count": 10,
   "metadata": {
    "collapsed": false
   },
   "outputs": [],
   "source": [
    "def mean(var):\n",
    "    print 'mean', np.mean(var), '  std', np.std(var)"
   ]
  },
  {
   "cell_type": "code",
   "execution_count": 16,
   "metadata": {
    "collapsed": false
   },
   "outputs": [
    {
     "name": "stdout",
     "output_type": "stream",
     "text": [
      "mean 97.5973404921   std 123.449852969\n",
      "mean 68.9003384262   std 33.8434879104\n",
      "mean 113.560459038   std 148.732599718\n",
      "mean 195.248753014   std 197.354451067\n",
      "mean 86.8521247347   std 59.6530222414\n"
     ]
    }
   ],
   "source": [
    "mean(ten)\n",
    "mean(knox)\n",
    "mean(mem)\n",
    "mean(quak)\n",
    "mean(pkwy1)"
   ]
  },
  {
   "cell_type": "code",
   "execution_count": 24,
   "metadata": {
    "collapsed": false
   },
   "outputs": [],
   "source": [
    "def boxplot_days(data1,data2,data3,data4,data5,title,ylabel):\n",
    "    fig = plt.figure(figsize=[12,8])\n",
    "    ax = plt.axes()\n",
    "    ax.set_title(title,fontsize=14)\n",
    "    ax.set_ylabel(ylabel,fontsize=18)\n",
    "    ax.boxplot(data1, positions=[1], widths=0.3)\n",
    "    ax.boxplot(data2, positions=[2], widths=0.3)\n",
    "    ax.boxplot(data3, positions=[3], widths=0.3)\n",
    "    ax.boxplot(data4, positions=[4], widths=0.3)\n",
    "    ax.boxplot(data5, positions=[5], widths=0.3)\n",
    "    ax.set_xlim(0.5,5.5)\n",
    "    ax.set_xticks([1,2,3,4,5])\n",
    "    #ax.set_yticklabels([200,300,400,500,600,700,800,900,1000],fontsize=12)\n",
    "    ax.set_xticklabels(['tenCO', '19th_knox','19th_mem',\n",
    "                        '24th_quak','TTUpkwy_18th','TTUpkwy_knox'],fontsize=12)"
   ]
  },
  {
   "cell_type": "code",
   "execution_count": 25,
   "metadata": {
    "collapsed": false,
    "scrolled": true
   },
   "outputs": [
    {
     "data": {
      "image/png": "[encoded data removed]",
      "text/plain": [
       "<matplotlib.figure.Figure at 0x109b34610>"
      ]
     },
     "metadata": {},
     "output_type": "display_data"
    }
   ],
   "source": [
    "boxplot_days(ten,knox,mem,quak,pkwy1,\n",
    "             'title','$NO_2$ $(k\\Omega)$')"
   ]
  },
  {
   "cell_type": "code",
   "execution_count": 19,
   "metadata": {
    "collapsed": false
   },
   "outputs": [
    {
     "data": {
      "text/plain": [
       "(1.8265005310603668, 0.067960106614893379)"
      ]
     },
     "execution_count": 19,
     "metadata": {},
     "output_type": "execute_result"
    }
   ],
   "source": [
    "stats.ttest_ind(ten,knox)"
   ]
  },
  {
   "cell_type": "code",
   "execution_count": 20,
   "metadata": {
    "collapsed": false
   },
   "outputs": [
    {
     "data": {
      "text/plain": [
       "(-1.1083211026826487, 0.26788707458236016)"
      ]
     },
     "execution_count": 20,
     "metadata": {},
     "output_type": "execute_result"
    }
   ],
   "source": [
    "stats.ttest_ind(ten,mem)"
   ]
  },
  {
   "cell_type": "code",
   "execution_count": 21,
   "metadata": {
    "collapsed": false
   },
   "outputs": [
    {
     "data": {
      "text/plain": [
       "(-6.6089034330114735, 5.2331002967852226e-11)"
      ]
     },
     "execution_count": 21,
     "metadata": {},
     "output_type": "execute_result"
    }
   ],
   "source": [
    "stats.ttest_ind(ten,quak)"
   ]
  },
  {
   "cell_type": "code",
   "execution_count": 22,
   "metadata": {
    "collapsed": false
   },
   "outputs": [
    {
     "data": {
      "text/plain": [
       "(1.1515851448099272, 0.2496509872086729)"
      ]
     },
     "execution_count": 22,
     "metadata": {},
     "output_type": "execute_result"
    }
   ],
   "source": [
    "stats.ttest_ind(ten,pkwy1)"
   ]
  },
  {
   "cell_type": "code",
   "execution_count": null,
   "metadata": {
    "collapsed": true
   },
   "outputs": [],
   "source": []
  }
 ],
 "metadata": {
  "kernelspec": {
   "display_name": "Python 2",
   "language": "python",
   "name": "python2"
  },
  "language_info": {
   "codemirror_mode": {
    "name": "ipython",
    "version": 2
   },
   "file_extension": ".py",
   "mimetype": "text/x-python",
   "name": "python",
   "nbconvert_exporter": "python",
   "pygments_lexer": "ipython2",
   "version": "2.7.10"
  }
 },
 "nbformat": 4,
 "nbformat_minor": 0
}
